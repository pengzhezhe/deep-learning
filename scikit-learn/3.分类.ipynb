{
 "cells": [
  {
   "cell_type": "code",
   "execution_count": 6,
   "metadata": {
    "collapsed": true,
    "pycharm": {
     "is_executing": false
    }
   },
   "outputs": [
    {
     "name": "stdout",
     "text": [
      "SVM模型为 SVC(C=1.0, break_ties=False, cache_size=200, class_weight=None, coef0=0.0,\n",
      "    decision_function_shape='ovr', degree=3, gamma='scale', kernel='rbf',\n",
      "    max_iter=-1, probability=False, random_state=None, shrinking=True,\n",
      "    tol=0.001, verbose=False)\n"
     ],
     "output_type": "stream"
    }
   ],
   "source": [
    "# 分类。单分类（是、否）。\n",
    "\n",
    "import numpy as np\n",
    "from sklearn.datasets import load_breast_cancer\n",
    "from sklearn.svm import SVC\n",
    "from sklearn.model_selection import train_test_split\n",
    "from sklearn.preprocessing import StandardScaler\n",
    "\n",
    "cancer = load_breast_cancer()\n",
    "\n",
    "cancer_data = cancer['data']\n",
    "cancer_target = cancer['target']\n",
    "cancer_names = cancer['feature_names']\n",
    "\n",
    "# 切割数据。把原始数据切割成训练集80%，测试集20%\n",
    "cancer_data_train, cancer_data_test, cancer_target_train, cancer_target_test = \\\n",
    "train_test_split(cancer_data, cancer_target, test_size=0.2, random_state = 22)\n",
    "\n",
    "# 数据标准化\n",
    "stdScaler = StandardScaler().fit(cancer_data_train) #使用训练集生成规则\n",
    "cancer_trainStd = stdScaler.transform(cancer_data_train) #应用规则到训练集\n",
    "cancer_testStd = stdScaler.transform(cancer_data_test) #应用规则到测试集\n",
    "\n",
    "#建立SVM模型:监督学习。需要原始数据（标准化），和真实的标签值\n",
    "svm = SVC().fit(cancer_trainStd, cancer_target_train)\n",
    "print('SVM模型为', svm)\n"
   ]
  },
  {
   "cell_type": "code",
   "execution_count": 7,
   "outputs": [
    {
     "name": "stdout",
     "text": [
      "[0 0 1 1 0 1 1 0 0 1 1 1 1 1 0 0 1 0 1 1 1 0 1 1 1 1 0 1 1 1 1 0 0 1 0 1 1\n",
      " 0 0 1 1 1 0 0 1 0 0 0 0 0 0 0 0 0 1 1 1 1 0 0 1 1 1 1 0 1 0 1 1 1 0 0 0 0\n",
      " 1 1 0 1 0 0 1 0 1 0 1 0 1 1 1 1 0 0 1 1 1 1 1 1 1 1 1 1 0 1 1 1 1 1 1 1 0\n",
      " 1 1 1 0 1 1 1 1 1 1 1 0 1 0 1 1 0 0 1 1 0 0 1 0 1 1 0 0 1 0 0 1 1 1 0 1 1\n",
      " 1 0 0 0 1 0 0 1 0 1 0 1 0 1 1 0 1 1 0 0 1 1 1 1 1 0 0 1 1 0 0 1 1 1 0 1 1\n",
      " 1 1 0 0 1 1 1 1 1 0 1 1 1 1 1 0 1 0 1 0 1 1 1 1 0 1 1 0 1 0 1 1 1 1 0 0 0\n",
      " 0 0 1 1 0 1 1 0 0 1 0 0 1 1 0 1 0 1 1 0 0 1 1 1 0 0 1 1 0 0 1 1 1 1 1 1 1\n",
      " 1 1 1 1 0 1 1 0 0 1 1 0 1 0 1 1 1 1 0 1 1 1 0 1 1 1 0 1 1 1 1 0 0 0 1 0 1\n",
      " 1 1 1 1 0 0 1 0 0 1 1 1 0 1 0 0 0 0 1 0 1 0 1 0 0 1 1 0 1 1 1 1 0 1 1 1 1\n",
      " 1 1 1 1 0 1 0 1 1 1 1 1 1 0 1 1 1 1 0 1 1 1 1 0 1 0 1 1 0 1 0 0 1 0 0 0 1\n",
      " 1 1 1 0 1 1 1 1 0 1 0 0 0 1 0 0 1 1 1 1 0 1 1 1 0 0 1 0 0 1 0 1 1 1 1 1 0\n",
      " 1 1 1 1 0 0 1 0 1 0 1 1 1 1 1 0 0 0 1 0 1 1 1 1 1 1 1 0 0 1 1 1 1 1 1 0 1\n",
      " 1 1 1 1 1 0 1 1 1 1 0]\n"
     ],
     "output_type": "stream"
    }
   ],
   "source": [
    "# 预测训练集结果\n",
    "cancer_target_pred = svm.predict(cancer_trainStd)\n",
    "print(cancer_target_pred)"
   ],
   "metadata": {
    "collapsed": false,
    "pycharm": {
     "name": "#%%\n",
     "is_executing": false
    }
   }
  },
  {
   "cell_type": "code",
   "execution_count": 8,
   "outputs": [
    {
     "name": "stdout",
     "text": [
      "[0 0 0 1 0 1 1 0 0 1 1 1 1 1 0 0 1 0 0 1 1 0 1 1 1 1 0 1 1 1 1 0 0 1 0 1 1\n",
      " 0 0 1 1 1 0 0 1 0 0 0 0 0 0 0 0 0 1 1 1 1 0 0 1 1 1 1 0 1 0 1 1 1 0 0 0 0\n",
      " 1 1 0 1 0 0 1 0 1 0 1 0 1 1 1 1 0 0 1 1 1 1 1 1 1 1 1 1 0 1 1 1 1 1 1 1 0\n",
      " 1 1 1 0 1 1 1 1 1 1 1 0 1 0 1 1 0 0 1 1 0 0 1 0 1 1 0 0 1 0 0 1 1 1 0 1 1\n",
      " 1 0 0 0 1 0 0 1 0 1 0 1 0 1 1 0 1 0 0 0 1 1 1 1 1 0 0 1 1 0 0 1 1 1 0 1 1\n",
      " 1 1 0 0 1 1 1 1 1 0 1 1 1 1 1 0 1 0 1 0 1 0 1 1 0 1 1 0 1 0 1 1 1 1 0 0 0\n",
      " 0 0 1 1 0 1 1 0 0 1 0 0 1 1 0 1 0 1 1 0 0 1 1 1 0 0 1 1 0 0 1 1 1 1 1 1 1\n",
      " 1 1 1 1 0 1 1 0 0 1 1 0 1 0 1 1 1 1 0 1 1 1 0 1 1 1 0 1 1 1 1 0 0 0 1 0 1\n",
      " 1 1 1 1 0 0 1 0 0 1 1 1 0 1 0 0 0 0 1 0 1 0 1 0 0 1 1 0 1 1 1 1 0 1 1 1 1\n",
      " 1 1 1 1 0 1 0 1 1 1 1 1 1 0 1 1 1 1 0 1 1 1 1 0 1 0 1 1 0 1 0 0 1 0 0 0 1\n",
      " 1 1 1 0 1 1 1 1 0 1 0 0 0 1 0 0 1 1 1 1 0 1 1 1 0 0 1 0 0 1 0 1 1 1 1 1 0\n",
      " 1 1 1 1 0 0 1 0 1 1 1 1 1 1 1 0 0 0 1 0 1 1 1 1 1 1 1 0 0 1 1 1 1 1 1 0 1\n",
      " 1 1 1 1 1 0 1 1 1 1 0]\n"
     ],
     "output_type": "stream"
    }
   ],
   "source": [
    "# 训练集的真实结果\n",
    "print(cancer_target_train)"
   ],
   "metadata": {
    "collapsed": false,
    "pycharm": {
     "name": "#%%\n",
     "is_executing": false
    }
   }
  },
  {
   "cell_type": "code",
   "execution_count": 11,
   "outputs": [
    {
     "name": "stdout",
     "text": [
      "0.989010989010989\n"
     ],
     "output_type": "stream"
    }
   ],
   "source": [
    "true = (cancer_target_pred==cancer_target_train).astype('int')\n",
    "accuracy = np.sum(true)/len(true)\n",
    "print(accuracy)"
   ],
   "metadata": {
    "collapsed": false,
    "pycharm": {
     "name": "#%%\n",
     "is_executing": false
    }
   }
  },
  {
   "cell_type": "code",
   "execution_count": 15,
   "outputs": [
    {
     "name": "stdout",
     "text": [
      "0.989010989010989\n",
      "0.986159169550173\n",
      "0.9965034965034965\n"
     ],
     "output_type": "stream"
    }
   ],
   "source": [
    "# 评价分类模型的指标\n",
    "#   ++++    ----\n",
    "#   +++-  | ---+\n",
    "from sklearn.metrics import accuracy_score, precision_score, recall_score, \\\n",
    "f1_score, cohen_kappa_score\n",
    "\n",
    "print(accuracy_score(cancer_target_train, cancer_target_pred)) # 准确率\n",
    "print(precision_score(cancer_target_train, cancer_target_pred)) # 精准率：判断是是的样本中，多少是正确的\n",
    "print(recall_score(cancer_target_train, cancer_target_pred)) # 召回率，得病的多少被判断正确\n",
    "print(f1_score(cancer_target_train, cancer_target_pred))\n",
    "print(cohen_kappa_score(cancer_target_train, cancer_target_pred))\n",
    "\n",
    "# 应该评估测试集"
   ],
   "metadata": {
    "collapsed": false,
    "pycharm": {
     "name": "#%%\n",
     "is_executing": false
    }
   }
  },
  {
   "cell_type": "code",
   "execution_count": 16,
   "outputs": [],
   "source": [
    "# 单分类 0或1    ；  多分类，多个0或1\n",
    "# 预测鲍鱼的年龄\n",
    "import pandas as pd\n",
    "from sklearn.svm import SVC\n",
    "from sklearn.metrics import classification_report # 多分类的结果评估\n",
    "from sklearn.model_selection import train_test_split\n",
    "from sklearn.preprocessing import StandardScaler\n",
    "\n",
    "\n"
   ],
   "metadata": {
    "collapsed": false,
    "pycharm": {
     "name": "#%%\n",
     "is_executing": false
    }
   }
  },
  {
   "cell_type": "code",
   "execution_count": 20,
   "outputs": [
    {
     "name": "stdout",
     "text": [
      "SVC(C=1.0, break_ties=False, cache_size=200, class_weight=None, coef0=0.0,\n",
      "    decision_function_shape='ovr', degree=3, gamma='scale', kernel='rbf',\n",
      "    max_iter=-1, probability=False, random_state=None, shrinking=True,\n",
      "    tol=0.001, verbose=False)\n",
      "              precision    recall  f1-score   support\n",
      "\n",
      "           3       0.00      0.00      0.00         3\n",
      "           4       0.00      0.00      0.00        13\n",
      "           5       0.00      0.00      0.00        32\n",
      "           6       0.00      0.00      0.00        48\n",
      "           7       0.00      0.00      0.00        84\n",
      "           8       0.00      0.00      0.00        99\n",
      "           9       0.29      0.22      0.25       142\n",
      "          10       0.15      0.76      0.25       139\n",
      "          11       0.00      0.00      0.00        93\n",
      "          12       0.00      0.00      0.00        51\n",
      "          13       0.00      0.00      0.00        31\n",
      "          14       0.00      0.00      0.00        26\n",
      "          15       0.00      0.00      0.00        21\n",
      "          16       0.00      0.00      0.00        13\n",
      "          17       0.00      0.00      0.00         8\n",
      "          18       0.00      0.00      0.00        12\n",
      "          19       0.00      0.00      0.00         7\n",
      "          20       0.00      0.00      0.00         4\n",
      "          21       0.00      0.00      0.00         3\n",
      "          22       0.00      0.00      0.00         3\n",
      "          23       0.00      0.00      0.00         4\n",
      "\n",
      "    accuracy                           0.16       836\n",
      "   macro avg       0.02      0.05      0.02       836\n",
      "weighted avg       0.07      0.16      0.08       836\n",
      "\n"
     ],
     "output_type": "stream"
    },
    {
     "name": "stderr",
     "text": [
      "C:\\Users\\44811\\.conda\\envs\\myenv\\lib\\site-packages\\sklearn\\metrics\\_classification.py:1272: UndefinedMetricWarning: Precision and F-score are ill-defined and being set to 0.0 in labels with no predicted samples. Use `zero_division` parameter to control this behavior.\n",
      "  _warn_prf(average, modifier, msg_start, len(result))\n"
     ],
     "output_type": "stream"
    }
   ],
   "source": [
    "abalone = pd.read_csv('./data/abalone.data', sep=',')\n",
    "print(abalone)"
   ],
   "metadata": {
    "collapsed": false,
    "pycharm": {
     "name": "#%%\n",
     "is_executing": false
    }
   }
  },
  {
   "cell_type": "code",
   "execution_count": null,
   "outputs": [],
   "source": [
    "# 把原始数据拆分成数据和标签\n",
    "abalone_data = abalone.iloc[:,:8]\n",
    "abalone_target = abalone.iloc[:,8]\n",
    "\n",
    "#哑变量处理\n",
    "sex = pd.get_dummies(abalone_data['sex'])\n",
    "#print(sex)\n",
    "abalone_data = pd.concat([abalone_data, sex], axis = 1)\n",
    "abalone_data.drop('sex', axis=1, inplace=True)\n",
    "\n",
    "#print(abalone_data)\n",
    "\n",
    "#划分训练集、测试集\n",
    "abalone_data_train, abalone_data_test, abalone_target_train, abalone_target_test = \\\n",
    "train_test_split(abalone_data, abalone_target, train_size=0.8, random_state=42)\n",
    "\n"
   ],
   "metadata": {
    "collapsed": false,
    "pycharm": {
     "name": "#%%\n"
    }
   }
  },
  {
   "cell_type": "code",
   "execution_count": null,
   "outputs": [],
   "source": [
    "# 预处理，标准化\n",
    "stdScaler = StandardScaler().fit(abalone_data_train) # 生成规则\n",
    "\n",
    "abalone_std_train = stdScaler.transform(abalone_data_train) # 应用规则到训练集\n",
    "abalone_std_test = stdScaler.transform(abalone_data_test) # 应用规则到测试集\n",
    "\n",
    "# 建模\n",
    "svm_abalone = SVC().fit(abalone_data_train, abalone_target_train)\n",
    "print(svm_abalone)"
   ],
   "metadata": {
    "collapsed": false,
    "pycharm": {
     "name": "#%%\n"
    }
   }
  },
  {
   "cell_type": "code",
   "execution_count": null,
   "outputs": [],
   "source": [
    "abalone_test_pred = svm_abalone.predict(abalone_std_test)\n",
    "# print(abalone_test_pred)\n",
    "print(classification_report(abalone_target_test, abalone_test_pred))"
   ],
   "metadata": {
    "collapsed": false,
    "pycharm": {
     "name": "#%%\n"
    }
   }
  },
  {
   "cell_type": "code",
   "execution_count": null,
   "outputs": [],
   "source": [
    "# 随机森林、决策树、"
   ],
   "metadata": {
    "collapsed": false,
    "pycharm": {
     "name": "#%%\n"
    }
   }
  }
 ],
 "metadata": {
  "kernelspec": {
   "display_name": "Python 3",
   "language": "python",
   "name": "python3"
  },
  "language_info": {
   "codemirror_mode": {
    "name": "ipython",
    "version": 2
   },
   "file_extension": ".py",
   "mimetype": "text/x-python",
   "name": "python",
   "nbconvert_exporter": "python",
   "pygments_lexer": "ipython2",
   "version": "2.7.6"
  },
  "pycharm": {
   "stem_cell": {
    "cell_type": "raw",
    "source": [],
    "metadata": {
     "collapsed": false
    }
   }
  }
 },
 "nbformat": 4,
 "nbformat_minor": 0
}