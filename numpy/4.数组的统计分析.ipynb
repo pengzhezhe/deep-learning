{
 "cells": [
  {
   "cell_type": "code",
   "execution_count": 1,
   "metadata": {
    "collapsed": true,
    "pycharm": {
     "name": "#%%\n"
    }
   },
   "outputs": [],
   "source": [
    "import numpy as np\n",
    "# 单个数组进行保存\n",
    "arr = np.arange(100).reshape(10, 10)\n",
    "np.save(\"./data/save_arr\", arr) # 路径，存储对象"
   ]
  },
  {
   "cell_type": "code",
   "execution_count": 2,
   "outputs": [],
   "source": [
    "# 多个数组进行保存\n",
    "arr1 = np.array([[1,2,3],[4,5,6]])\n",
    "arr2 = np.array([1,2,3,4])\n",
    "\n",
    "np.savez('./data/savez_arr', arr1, arr2)"
   ],
   "metadata": {
    "collapsed": false,
    "pycharm": {
     "name": "#%%\n"
    }
   }
  },
  {
   "cell_type": "code",
   "execution_count": 3,
   "outputs": [
    {
     "name": "stdout",
     "output_type": "stream",
     "text": [
      "[[ 0  1  2  3  4  5  6  7  8  9]\n",
      " [10 11 12 13 14 15 16 17 18 19]\n",
      " [20 21 22 23 24 25 26 27 28 29]\n",
      " [30 31 32 33 34 35 36 37 38 39]\n",
      " [40 41 42 43 44 45 46 47 48 49]\n",
      " [50 51 52 53 54 55 56 57 58 59]\n",
      " [60 61 62 63 64 65 66 67 68 69]\n",
      " [70 71 72 73 74 75 76 77 78 79]\n",
      " [80 81 82 83 84 85 86 87 88 89]\n",
      " [90 91 92 93 94 95 96 97 98 99]]\n",
      "<numpy.lib.npyio.NpzFile object at 0x00000235DAAFDD00>\n",
      "[[1 2 3]\n",
      " [4 5 6]]\n",
      "[1 2 3 4]\n",
      "[[ 0.   0.5  1.   1.5  2.   2.5]\n",
      " [ 3.   3.5  4.   4.5  5.   5.5]\n",
      " [ 6.   6.5  7.   7.5  8.   8.5]\n",
      " [ 9.   9.5 10.  10.5 11.  11.5]]\n",
      "[[ 0.  0.  1.  1.  2.  2.]\n",
      " [ 3.  3.  4.  4.  5.  5.]\n",
      " [ 6.  6.  7.  7.  8.  8.]\n",
      " [ 9.  9. 10. 10. 11. 11.]]\n",
      "[[ 0.  0.  1.  1.  2.  2.]\n",
      " [ 3.  3.  4.  4.  5.  5.]\n",
      " [ 6.  6.  7.  7.  8.  8.]\n",
      " [ 9.  9. 10. 10. 11. 11.]]\n"
     ]
    }
   ],
   "source": [
    "#读取数组\n",
    "arr_load = np.load('./data/save_arr.npy')\n",
    "print(arr_load)\n",
    "\n",
    "arr2_load = np.load('./data/savez_arr.npz')\n",
    "print(arr2_load)\n",
    "print(arr2_load['arr_0'])\n",
    "print(arr2_load['arr_1'])\n",
    "\n",
    "arr = np.arange(0, 12, 0.5).reshape(4, -1) #-1表示不确定，让程序自己去计算，size/4\n",
    "print(arr)\n",
    "\n",
    "# %d %s %f\n",
    "np.savetxt('./data/arr.txt', arr, fmt=\"%d\", delimiter=',')\n",
    "np.savetxt('./data/arr.csv', arr, fmt=\"%d\", delimiter=',')\n",
    "\n",
    "\n",
    "\n",
    "\n",
    "# txt csv ---> savetxt loadtxt 保存和读取\n",
    "load_arr = np.loadtxt('./data/arr.txt',delimiter=',')\n",
    "print(load_arr)\n",
    "\n",
    "\n",
    "\n",
    "load_arr = np.genfromtxt('./data/arr.csv',delimiter=',') #txt csv格式都能用这个函数\n",
    "print(load_arr)"
   ],
   "metadata": {
    "collapsed": false,
    "pycharm": {
     "name": "#%%\n"
    }
   }
  },
  {
   "cell_type": "code",
   "execution_count": 4,
   "outputs": [
    {
     "name": "stdout",
     "output_type": "stream",
     "text": [
      "[1 1 2 5 7 6 7 7 6 3]\n"
     ]
    }
   ],
   "source": [
    "#数组的元素排序\n",
    "#随机种子\n",
    "np.random.seed(50)\n",
    "arr = np.random.randint(1,10,size=10)\n",
    "print(arr)"
   ],
   "metadata": {
    "collapsed": false,
    "pycharm": {
     "name": "#%%\n"
    }
   }
  },
  {
   "cell_type": "code",
   "execution_count": 5,
   "outputs": [
    {
     "name": "stdout",
     "output_type": "stream",
     "text": [
      "[1 1 2 3 5 6 6 7 7 7]\n"
     ]
    }
   ],
   "source": [
    "arr.sort()\n",
    "print(arr)"
   ],
   "metadata": {
    "collapsed": false,
    "pycharm": {
     "name": "#%%\n"
    }
   }
  },
  {
   "cell_type": "code",
   "execution_count": 6,
   "outputs": [
    {
     "name": "stdout",
     "output_type": "stream",
     "text": [
      "[[8 5 4]\n",
      " [7 5 2]\n",
      " [6 1 7]]\n",
      "[[4 5 8]\n",
      " [2 5 7]\n",
      " [1 6 7]]\n",
      "[[1 5 7]\n",
      " [2 5 7]\n",
      " [4 6 8]]\n"
     ]
    }
   ],
   "source": [
    "arr = np.random.randint(1,10,size=(3,3))\n",
    "print(arr)\n",
    "\n",
    "arr.sort(axis=1) #默认值axis=1\n",
    "print(arr)\n",
    "\n",
    "arr.sort(axis=0)\n",
    "print(arr)\n"
   ],
   "metadata": {
    "collapsed": false,
    "pycharm": {
     "name": "#%%\n"
    }
   }
  },
  {
   "cell_type": "code",
   "execution_count": 7,
   "outputs": [
    {
     "name": "stdout",
     "output_type": "stream",
     "text": [
      "[1 3 9 8 0 7]\n",
      "[4 0 1 5 3 2]\n",
      "[3 4 1 0 2]\n",
      "4 20 100\n"
     ]
    }
   ],
   "source": [
    "arr = np.array([1,3,9,8,0,7])\n",
    "print(arr)\n",
    "\n",
    "#返回排序好的index，不改变原始数据\n",
    "index =  arr.argsort()\n",
    "print(index)\n",
    "\n",
    "\n",
    "a = np.array([3,2,6,4,5])  # value\n",
    "b = np.array([50,30,40,20,10])  # value\n",
    "c = np.array([400,300,600,100,200]) # key\n",
    "\n",
    "d = np.lexsort((a,b,c)) # 按照最后一个传入的数组进行排序，返回排列好的index\n",
    "\n",
    "print(d)\n",
    "\n",
    "print(a[d[0]],b[d[0]],c[d[0]],)"
   ],
   "metadata": {
    "collapsed": false,
    "pycharm": {
     "name": "#%%\n"
    }
   }
  },
  {
   "cell_type": "code",
   "execution_count": 8,
   "outputs": [
    {
     "name": "stdout",
     "output_type": "stream",
     "text": [
      "[1 2 3 4 2 3 1]\n",
      "[1 2 3 4]\n",
      "{1, 2, 3, 4}\n",
      "[0 1 2 3 4 0 1 2 3 4 0 1 2 3 4]\n",
      "[[1 2 3]\n",
      " [2 3 4]]\n",
      "[[1 2 3]\n",
      " [1 2 3]\n",
      " [2 3 4]\n",
      " [2 3 4]]\n",
      "[[1 1 2 2 3 3]\n",
      " [2 2 3 3 4 4]]\n"
     ]
    }
   ],
   "source": [
    "#数据的去重\n",
    "ids = np.array([1,2,3,4,2,3,1]) # 对其他数据类型也能进行去重\n",
    "print(ids)\n",
    "\n",
    "ids_unique = np.unique(ids) #没有改变原始数据\n",
    "print(ids_unique)\n",
    "\n",
    "print(set(ids))\n",
    "\n",
    "\n",
    "# 把数据进行重复\n",
    "arr = np.arange(5)\n",
    "arr_title = np.tile(arr,3)\n",
    "print(arr_title)\n",
    "\n",
    "arr2 = np.array([[1,2,3],[2,3,4]])\n",
    "print(arr2)\n",
    "\n",
    "print(arr2.repeat(2,axis=0)) # axis值越大，越接近数组内部进行处理\n",
    "print(arr2.repeat(2,axis=1))"
   ],
   "metadata": {
    "collapsed": false,
    "pycharm": {
     "name": "#%%\n"
    }
   }
  },
  {
   "cell_type": "code",
   "execution_count": 9,
   "outputs": [
    {
     "name": "stdout",
     "output_type": "stream",
     "text": [
      "[[ 0  1  2  3  4]\n",
      " [ 5  6  7  8  9]\n",
      " [10 11 12 13 14]\n",
      " [15 16 17 18 19]]\n"
     ]
    }
   ],
   "source": [
    "#numpy的统计函数\n",
    "arr = np.arange(20).reshape(4,5)\n",
    "print(arr)"
   ],
   "metadata": {
    "collapsed": false,
    "pycharm": {
     "name": "#%%\n"
    }
   }
  },
  {
   "cell_type": "code",
   "execution_count": 10,
   "outputs": [
    {
     "name": "stdout",
     "output_type": "stream",
     "text": [
      "190\n",
      "190\n",
      "[30 34 38 42 46]\n",
      "[10 35 60 85]\n"
     ]
    }
   ],
   "source": [
    "print(np.sum(arr)) #数组求和\n",
    "print(arr.sum())\n",
    "print(arr.sum(axis=0)) #纵轴\n",
    "print(arr.sum(axis=1)) #横向求和"
   ],
   "metadata": {
    "collapsed": false,
    "pycharm": {
     "name": "#%%\n"
    }
   }
  },
  {
   "cell_type": "code",
   "execution_count": 11,
   "outputs": [
    {
     "name": "stdout",
     "output_type": "stream",
     "text": [
      "9.5\n",
      "9.5\n",
      "[ 7.5  8.5  9.5 10.5 11.5]\n",
      "[ 2.  7. 12. 17.]\n"
     ]
    }
   ],
   "source": [
    "# 平均数\n",
    "print(np.mean(arr))\n",
    "print(arr.mean())\n",
    "print(arr.mean(axis=0)) #纵轴\n",
    "print(arr.mean(axis=1)) #横轴"
   ],
   "metadata": {
    "collapsed": false,
    "pycharm": {
     "name": "#%%\n"
    }
   }
  },
  {
   "cell_type": "code",
   "execution_count": 12,
   "outputs": [
    {
     "name": "stdout",
     "output_type": "stream",
     "text": [
      "5.766281297335398\n",
      "33.25\n"
     ]
    }
   ],
   "source": [
    "print(np.std(arr)) #标准差\n",
    "print(np.var(arr)) #方差"
   ],
   "metadata": {
    "collapsed": false,
    "pycharm": {
     "name": "#%%\n"
    }
   }
  },
  {
   "cell_type": "code",
   "execution_count": 13,
   "outputs": [
    {
     "name": "stdout",
     "output_type": "stream",
     "text": [
      "1\n",
      "20\n",
      "0\n",
      "19\n"
     ]
    }
   ],
   "source": [
    "arr = arr + 1\n",
    "print(np.min(arr)) #最小值\n",
    "print(np.max(arr)) #最大值\n",
    "\n",
    "print(np.argmin(arr)) #最小值的索引\n",
    "print(np.argmax(arr)) #最大值的索引\n"
   ],
   "metadata": {
    "collapsed": false,
    "pycharm": {
     "name": "#%%\n"
    }
   }
  },
  {
   "cell_type": "code",
   "execution_count": 14,
   "outputs": [
    {
     "name": "stdout",
     "output_type": "stream",
     "text": [
      "[2 3 4 5 6 7 8 9]\n",
      "[ 2  5  9 14 20 27 35 44]\n"
     ]
    }
   ],
   "source": [
    "# 元素的累计和\n",
    "arr = np.arange(2,10)\n",
    "print(arr)\n",
    "print(np.cumsum(arr))"
   ],
   "metadata": {
    "collapsed": false,
    "pycharm": {
     "name": "#%%\n"
    }
   }
  },
  {
   "cell_type": "code",
   "execution_count": 15,
   "outputs": [
    {
     "name": "stdout",
     "output_type": "stream",
     "text": [
      "[     2      6     24    120    720   5040  40320 362880]\n"
     ]
    }
   ],
   "source": [
    "# 元素的累计积\n",
    "print(np.cumprod(arr))\n"
   ],
   "metadata": {
    "collapsed": false,
    "pycharm": {
     "name": "#%%\n"
    }
   }
  }
 ],
 "metadata": {
  "kernelspec": {
   "name": "python3",
   "language": "python",
   "display_name": "Python 3"
  },
  "language_info": {
   "codemirror_mode": {
    "name": "ipython",
    "version": 2
   },
   "file_extension": ".py",
   "mimetype": "text/x-python",
   "name": "python",
   "nbconvert_exporter": "python",
   "pygments_lexer": "ipython2",
   "version": "2.7.6"
  },
  "pycharm": {
   "stem_cell": {
    "cell_type": "raw",
    "source": [],
    "metadata": {
     "collapsed": false
    }
   }
  }
 },
 "nbformat": 4,
 "nbformat_minor": 0
}