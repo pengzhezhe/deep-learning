{
 "cells": [
  {
   "cell_type": "code",
   "execution_count": 3,
   "metadata": {
    "collapsed": true
   },
   "outputs": [
    {
     "name": "stdout",
     "output_type": "stream",
     "text": [
      "['C:\\\\Users\\\\pzz\\\\Repository\\\\Pycharm\\\\ai-learning\\\\pandas', 'C:\\\\Users\\\\pzz\\\\Repository\\\\Pycharm\\\\ai-learning', 'C:\\\\ProgramData\\\\Miniconda3\\\\envs\\\\py37\\\\python37.zip', 'C:\\\\ProgramData\\\\Miniconda3\\\\envs\\\\py37\\\\DLLs', 'C:\\\\ProgramData\\\\Miniconda3\\\\envs\\\\py37\\\\lib', 'C:\\\\ProgramData\\\\Miniconda3\\\\envs\\\\py37', '', 'C:\\\\ProgramData\\\\Miniconda3\\\\envs\\\\py37\\\\lib\\\\site-packages', 'C:\\\\ProgramData\\\\Miniconda3\\\\envs\\\\py37\\\\lib\\\\site-packages\\\\win32', 'C:\\\\ProgramData\\\\Miniconda3\\\\envs\\\\py37\\\\lib\\\\site-packages\\\\win32\\\\lib', 'C:\\\\ProgramData\\\\Miniconda3\\\\envs\\\\py37\\\\lib\\\\site-packages\\\\Pythonwin', 'C:\\\\ProgramData\\\\Miniconda3\\\\envs\\\\py37\\\\lib\\\\site-packages\\\\IPython\\\\extensions', 'C:\\\\Users\\\\pzz\\\\.ipython', 'C:\\\\Program Files\\\\JetBrains\\\\PyCharm\\\\plugins\\\\python\\\\helpers\\\\pydev', 'C:\\\\Program Files\\\\JetBrains\\\\PyCharm\\\\plugins\\\\python\\\\helpers-pro\\\\jupyter_debug']\n"
     ]
    }
   ],
   "source": [
    "import pandas as pd\n",
    "import sys\n",
    "print(sys.path)"
   ]
  },
  {
   "cell_type": "code",
   "execution_count": 4,
   "outputs": [
    {
     "name": "stdout",
     "output_type": "stream",
     "text": [
      "<class 'pandas.core.frame.DataFrame'>\n",
      "      Unnamed: 0  detail_id  order_id  dishes_id  logicprn_name  \\\n",
      "0              0       2352       366     609967            NaN   \n",
      "1              1       2354       366     609961            NaN   \n",
      "2              2       2356       366     606000            NaN   \n",
      "3              3       2358       366     606106            NaN   \n",
      "4              4       2361       366     610003            NaN   \n",
      "...          ...        ...       ...        ...            ...   \n",
      "3642        3642       3856      1125     610011            NaN   \n",
      "3643        3643       3857      1125     610020            NaN   \n",
      "3644        3644       3858      1125     610048            NaN   \n",
      "3645        3645       3859      1125     609996            NaN   \n",
      "3646        3646       3860      1125     610018            NaN   \n",
      "\n",
      "      parent_class_name       dishes_name  itemis_add  counts  amounts  cost  \\\n",
      "0                   NaN            香酥两吃大虾           0       1       89   NaN   \n",
      "1                   NaN             姜葱炒花蟹           0       1       45   NaN   \n",
      "2                   NaN  香烤牛排\\r\\n\\r\\n\\r\\n           0       1       55   NaN   \n",
      "3                   NaN              铁板牛肉           0       1       66   NaN   \n",
      "4                   NaN               蒜香包           0       1       13   NaN   \n",
      "...                 ...               ...         ...     ...      ...   ...   \n",
      "3642                NaN             白饭/大碗           0       1       10   NaN   \n",
      "3643                NaN  泡椒凤爪\\r\\n\\r\\n\\r\\n           0       1       58   NaN   \n",
      "3644                NaN              拌土豆丝           0       1       25   NaN   \n",
      "3645                NaN               牛尾汤           0       1       40   NaN   \n",
      "3646                NaN  照烧鸡腿\\r\\n\\r\\n\\r\\n           0       1       16   NaN   \n",
      "\n",
      "        place_order_time  discount_amt  discount_reason  kick_back  \\\n",
      "0    2016-08-11 11:49:43           NaN              NaN        NaN   \n",
      "1    2016-08-11 11:51:17           NaN              NaN        NaN   \n",
      "2    2016-08-11 11:52:48           NaN              NaN        NaN   \n",
      "3    2016-08-11 11:53:47           NaN              NaN        NaN   \n",
      "4    2016-08-11 11:54:12           NaN              NaN        NaN   \n",
      "...                  ...           ...              ...        ...   \n",
      "3642 2016-08-20 22:06:33           NaN              NaN        NaN   \n",
      "3643 2016-08-20 22:07:31           NaN              NaN        NaN   \n",
      "3644 2016-08-20 22:07:47           NaN              NaN        NaN   \n",
      "3645 2016-08-20 22:08:38           NaN              NaN        NaN   \n",
      "3646 2016-08-20 22:09:17           NaN              NaN        NaN   \n",
      "\n",
      "      add_inprice  add_info  bar_code               picture_file  emp_id  \n",
      "0               0       NaN       NaN           caipu/101002.jpg    1159  \n",
      "1               0       NaN       NaN           caipu/102001.jpg    1159  \n",
      "2               0       NaN       NaN           caipu/201001.jpg    1159  \n",
      "3               0       NaN       NaN  /jsp/pc/images/606106.jpg    1159  \n",
      "4               0       NaN       NaN           caipu/503002.jpg    1159  \n",
      "...           ...       ...       ...                        ...     ...  \n",
      "3642            0       NaN       NaN           caipu/601005.jpg    1110  \n",
      "3643            0       NaN       NaN           caipu/204003.jpg    1110  \n",
      "3644            0       NaN       NaN           caipu/301002.jpg    1110  \n",
      "3645            0       NaN       NaN           caipu/201006.jpg    1110  \n",
      "3646            0       NaN       NaN           caipu/204001.jpg    1110  \n",
      "\n",
      "[3647 rows x 20 columns]\n"
     ]
    }
   ],
   "source": [
    "# Excel/txt/csv/sql/... ---->DataFrame---->Excel/txt/csv/sql/...\n",
    "order = pd.read_excel(\"./data/Book1.xlsx\")\n",
    "print(type(order))\n",
    "print(order)"
   ],
   "metadata": {
    "collapsed": false,
    "pycharm": {
     "name": "#%%\n"
    }
   }
  },
  {
   "cell_type": "code",
   "execution_count": 5,
   "outputs": [],
   "source": [
    "order.to_csv(\"./data/Book1.csv\",encoding=\"gbk\",sep=\";\")\n"
   ],
   "metadata": {
    "collapsed": false,
    "pycharm": {
     "name": "#%%\n"
    }
   }
  }
 ],
 "metadata": {
  "kernelspec": {
   "name": "python3",
   "language": "python",
   "display_name": "Python 3"
  },
  "language_info": {
   "codemirror_mode": {
    "name": "ipython",
    "version": 2
   },
   "file_extension": ".py",
   "mimetype": "text/x-python",
   "name": "python",
   "nbconvert_exporter": "python",
   "pygments_lexer": "ipython2",
   "version": "2.7.6"
  },
  "pycharm": {
   "stem_cell": {
    "cell_type": "raw",
    "source": [],
    "metadata": {
     "collapsed": false
    }
   }
  }
 },
 "nbformat": 4,
 "nbformat_minor": 0
}