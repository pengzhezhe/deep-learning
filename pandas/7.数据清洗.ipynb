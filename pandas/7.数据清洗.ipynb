{
 "cells": [
  {
   "cell_type": "code",
   "execution_count": 1,
   "metadata": {
    "pycharm": {
     "is_executing": false
    }
   },
   "outputs": [
    {
     "name": "stdout",
     "text": [
      "           order_id  dishes_id  logicprn_name  parent_class_name dishes_name  \\\n",
      "detail_id                                                                      \n",
      "2956            417     610062            NaN                NaN        蒜蓉生蚝   \n",
      "2958            417     609957            NaN                NaN       蒙古烤羊腿   \n",
      "2961            417     609950            NaN                NaN        大蒜苋菜   \n",
      "2966            417     610038            NaN                NaN       芝麻烤紫菜   \n",
      "2968            417     610003            NaN                NaN         蒜香包   \n",
      "\n",
      "           itemis_add  counts  amounts  cost  place_order_time  discount_amt  \\\n",
      "detail_id                                                                      \n",
      "2956                0       1       49   NaN  2016/8/111:05:00           NaN   \n",
      "2958                0       1       48   NaN  2016/8/111:07:00           NaN   \n",
      "2961                0       1       30   NaN  2016/8/111:07:00           NaN   \n",
      "2966                0       1       25   NaN  2016/8/111:11:00           NaN   \n",
      "2968                0       1       13   NaN  2016/8/111:11:00           NaN   \n",
      "\n",
      "           discount_reason  kick_back  add_inprice  add_info  bar_code  \\\n",
      "detail_id                                                                \n",
      "2956                   NaN        NaN            0       NaN       NaN   \n",
      "2958                   NaN        NaN            0       NaN       NaN   \n",
      "2961                   NaN        NaN            0       NaN       NaN   \n",
      "2966                   NaN        NaN            0       NaN       NaN   \n",
      "2968                   NaN        NaN            0       NaN       NaN   \n",
      "\n",
      "               picture_file  emp_id  \n",
      "detail_id                            \n",
      "2956       caipu/104001.jpg    1442  \n",
      "2958       caipu/202003.jpg    1442  \n",
      "2961       caipu/303001.jpg    1442  \n",
      "2966       caipu/105002.jpg    1442  \n",
      "2968       caipu/503002.jpg    1442  \n"
     ],
     "output_type": "stream"
    }
   ],
   "source": [
    "#重复值、缺失值、异常值\n",
    "import pandas as pd\n",
    "\n",
    "detail=pd.read_csv(\"./data/detail.csv\",encoding=\"gbk\",index_col=0)\n",
    "print(detail.head())"
   ]
  },
  {
   "cell_type": "code",
   "execution_count": 2,
   "metadata": {
    "pycharm": {
     "is_executing": false,
     "name": "#%%\n"
    }
   },
   "outputs": [
    {
     "name": "stdout",
     "text": [
      "{'盘蟹蒸蛋', '葱姜炒蟹', '蛋挞', '黑米恋上葡萄', '清蒸蝶鱼', '麻辣小龙虾', '清爽拌凉面', '三色凉拌手撕兔', '哈尔滨啤酒罐装', '香烤牛排', '芹黄鳝丝', '番茄有机花菜', '张裕葡萄酒张裕赤霞珠干红', '照烧鸡腿', '一品香酥藕', '西瓜胡萝卜沙拉', '38度剑南春', '不加一滴油的酸奶蛋糕', '凉拌菠菜', '酸辣藕丁', '辣炒花蛤', '小米南瓜粥', '番茄炖牛腩', '凉拌萝卜丝', '青炒扁豆', '辣炒鱿鱼', '姜葱炒花蟹', '糖醋蕃茄溜青花', '百威啤酒罐装', '路易拉菲红酒干红', '紫薯面包卷', '黄油曲奇饼干', '葱油凉拌藕片', '独家薄荷鲜虾牛肉卷', '打卤面', '白饭/小碗', '香菇鹌鹑蛋', '爆炒鳝碌', '酸辣汤面', '蒜蓉生蚝', '52度泸州老窖', '芝麻烤紫菜', '小炒羊腰', '超人气广式肠粉', '南瓜枸杞小饼干', '木须豌豆', '牛奶卷', '蒜香辣花甲', '花蛤蒸蛋', '蒙古烤羊腿', '五色糯米饭(七色)', '大理石奶油蛋糕', '番茄蛋汤', '五彩豆', '53度茅台', '油焖麻辣虾', '牛肉鸡蛋肠粉', '豌豆薯仔猪骨汤', '蓝带啤酒罐装', '爆炒鸡翅', '宝宝版牛肉肠粉', '爆炒双丝', '牛尾汤', '三丝鳝鱼', '重庆特色油烧兔', '纸杯蛋糕', '百里香奶油烤红酒牛肉', '核桃葡萄干土司', '海带结豆腐汤', '白胡椒胡萝卜羊肉汤', '皮蛋瘦肉粥', '鱼香肉丝拌面', '老式面包', '铁板牛肉', '50度古井贡酒', '快炒黄鳝', '番茄甘蓝', '爆炒猪肝', '炝炒大白菜', '鲜美鳝鱼', '倒立蒸梭子蟹', '清蒸海鱼', '啤酒鸭', '香菇鸡肉粥', '干锅田鸡', '杭椒鸡珍', '培根花菜', '孜然羊排', '桂圆肉红豆八宝饭', '水煮鱼', '长城窖酿解百纳红酒干红葡萄酒', '青岛啤酒罐装', '意文柠檬汁', '广式虾仁肠粉', '辣炒海带丝', '黄花菜炒木耳', '凉拌海带豆芽紫菜', '金玉良缘', '党参黄芪炖牛尾', '拌土豆丝', '玉竹南北杏鸭腿汤', '焖猪手', '咖啡奶香面包', '红酒炖羊肉', '剁椒鱼头', '五彩藕苗', '清炒菊花菜', '美妙绝伦之白莲花', '红酒土豆烧鸭腿', '土豆西红柿汤面', '芹菜炒腰花', '葡萄奶酥(超酥香的饼干)', '泡椒凤爪', '芝士烩波士顿龙虾', '谷稻小庄', '辣炒田螺', '凉拌蒜蓉西兰花', '南瓜芝士包', '避风塘炒蟹', '山药养生粥', '冬瓜炒苦瓜', '露露无糖杏仁露', '桂圆枸杞鸽子汤', '冰糖红豆薏米粥', '蒜香包', '自制猪肉脯', '肉丁茄子', '鸡蛋、肉末肠粉', '香辣腐乳炒虾', '农夫山泉NFC果汁100%橙汁', '香酥两吃大虾', '特醇嘉士伯啤酒罐装', '大蒜苋菜', '白斩鸡', '黄尾袋鼠西拉子红葡萄酒', '冰镇花螺', '香辣爆羊肝', '42度海之蓝', '百里香奶油烤紅酒牛肉', '白饭/大碗', '法国波尔多AOC干红葡萄酒原', '培根紫菜卷', '北冰洋汽水', '番茄炖秋葵', '五香酱驴肉'}\n"
     ],
     "output_type": "stream"
    }
   ],
   "source": [
    "# 一列数据中的重复值\n",
    "# 1、使用set\n",
    "dishes_name=detail['dishes_name']\n",
    "print(set(dishes_name))"
   ]
  },
  {
   "cell_type": "code",
   "execution_count": 3,
   "metadata": {
    "pycharm": {
     "is_executing": false,
     "name": "#%%\n"
    }
   },
   "outputs": [
    {
     "name": "stdout",
     "text": [
      "['蒜蓉生蚝', '蒙古烤羊腿', '大蒜苋菜', '芝麻烤紫菜', '蒜香包', '白斩鸡', '香烤牛排', '干锅田鸡', '桂圆枸杞鸽子汤', '番茄有机花菜', '白饭/大碗', '芝士烩波士顿龙虾', '葱姜炒蟹', '皮蛋瘦肉粥', '爆炒鳝碌', '番茄甘蓝', '重庆特色油烧兔', '番茄炖秋葵', '长城窖酿解百纳红酒干红葡萄酒', '紫薯面包卷', '桂圆肉红豆八宝饭', '避风塘炒蟹', '番茄炖牛腩', '香菇鹌鹑蛋', '花蛤蒸蛋', '啤酒鸭', '焖猪手', '豌豆薯仔猪骨汤', '小炒羊腰', '山药养生粥', '冰糖红豆薏米粥', '芹菜炒腰花', '小米南瓜粥', '香菇鸡肉粥', '剁椒鱼头', '农夫山泉NFC果汁100%橙汁', '水煮鱼', '五彩藕苗', '露露无糖杏仁露', '北冰洋汽水', '意文柠檬汁', '美妙绝伦之白莲花', '炝炒大白菜', '凉拌蒜蓉西兰花', '孜然羊排', '凉拌菠菜', '红酒炖羊肉', '油焖麻辣虾', '香辣爆羊肝', '42度海之蓝', '青岛啤酒罐装', '牛尾汤', '独家薄荷鲜虾牛肉卷', '西瓜胡萝卜沙拉', '倒立蒸梭子蟹', '谷稻小庄', '黄油曲奇饼干', '五色糯米饭(七色)', '大理石奶油蛋糕', '53度茅台', '纸杯蛋糕', '木须豌豆', '爆炒鸡翅', '特醇嘉士伯啤酒罐装', '百威啤酒罐装', '辣炒鱿鱼', '培根花菜', '盘蟹蒸蛋', '爆炒猪肝', '肉丁茄子', '白胡椒胡萝卜羊肉汤', '番茄蛋汤', '白饭/小碗', '培根紫菜卷', '糖醋蕃茄溜青花', '照烧鸡腿', '香辣腐乳炒虾', '50度古井贡酒', '鱼香肉丝拌面', '一品香酥藕', '百里香奶油烤红酒牛肉', '自制猪肉脯', '清炒菊花菜', '宝宝版牛肉肠粉', '南瓜芝士包', '黄尾袋鼠西拉子红葡萄酒', '清爽拌凉面', '黑米恋上葡萄', '蒜香辣花甲', '酸辣藕丁', '五香酱驴肉', '路易拉菲红酒干红', '麻辣小龙虾', '清蒸海鱼', '法国波尔多AOC干红葡萄酒原', '香酥两吃大虾', '金玉良缘', '蛋挞', '葱油凉拌藕片', '南瓜枸杞小饼干', '红酒土豆烧鸭腿', '酸辣汤面', '广式虾仁肠粉', '辣炒海带丝', '铁板牛肉', '三色凉拌手撕兔', '不加一滴油的酸奶蛋糕', '土豆西红柿汤面', '核桃葡萄干土司', '张裕葡萄酒张裕赤霞珠干红', '姜葱炒花蟹', '五彩豆', '辣炒田螺', '清蒸蝶鱼', '黄花菜炒木耳', '青炒扁豆', '蓝带啤酒罐装', '哈尔滨啤酒罐装', '葡萄奶酥(超酥香的饼干)', '玉竹南北杏鸭腿汤', '打卤面', '芹黄鳝丝', '老式面包', '泡椒凤爪', '鸡蛋、肉末肠粉', '凉拌萝卜丝', '快炒黄鳝', '拌土豆丝', '38度剑南春', '52度泸州老窖', '鲜美鳝鱼', '党参黄芪炖牛尾', '牛肉鸡蛋肠粉', '凉拌海带豆芽紫菜', '杭椒鸡珍', '三丝鳝鱼', '辣炒花蛤', '爆炒双丝', '咖啡奶香面包', '牛奶卷', '海带结豆腐汤', '冰镇花螺', '冬瓜炒苦瓜', '超人气广式肠粉', '百里香奶油烤紅酒牛肉']\n"
     ],
     "output_type": "stream"
    }
   ],
   "source": [
    "# 2、使用list自定函数\n",
    "def delRep(list1):\n",
    "    list2 = []\n",
    "    for i in list1:\n",
    "        if i not in list2:\n",
    "            list2.append(i)\n",
    "    return list2\n",
    "dishes_name=list(dishes_name)\n",
    "\n",
    "dishes_name = delRep(dishes_name)\n",
    "print(dishes_name)"
   ]
  },
  {
   "cell_type": "code",
   "execution_count": 4,
   "metadata": {
    "pycharm": {
     "is_executing": false,
     "name": "#%%\n"
    }
   },
   "outputs": [
    {
     "name": "stdout",
     "text": [
      "detail_id\n",
      "2956              蒜蓉生蚝\n",
      "2958             蒙古烤羊腿\n",
      "2961              大蒜苋菜\n",
      "2966             芝麻烤紫菜\n",
      "2968               蒜香包\n",
      "1899               白斩鸡\n",
      "1902              香烤牛排\n",
      "1906              干锅田鸡\n",
      "1907           桂圆枸杞鸽子汤\n",
      "1908            番茄有机花菜\n",
      "1910             白饭/大碗\n",
      "2916          芝士烩波士顿龙虾\n",
      "2919              葱姜炒蟹\n",
      "2921             皮蛋瘦肉粥\n",
      "2923              爆炒鳝碌\n",
      "2927              番茄甘蓝\n",
      "2926           重庆特色油烧兔\n",
      "2928             番茄炖秋葵\n",
      "2930    长城窖酿解百纳红酒干红葡萄酒\n",
      "2932             紫薯面包卷\n",
      "2934          桂圆肉红豆八宝饭\n",
      "2938             避风塘炒蟹\n",
      "2935             番茄炖牛腩\n",
      "2936             香菇鹌鹑蛋\n",
      "2940              花蛤蒸蛋\n",
      "2937               啤酒鸭\n",
      "2939               焖猪手\n",
      "2643           豌豆薯仔猪骨汤\n",
      "2942              小炒羊腰\n",
      "2650             山药养生粥\n",
      "             ...      \n",
      "6154              青炒扁豆\n",
      "2036            蓝带啤酒罐装\n",
      "1772           哈尔滨啤酒罐装\n",
      "6825      葡萄奶酥(超酥香的饼干)\n",
      "3736          玉竹南北杏鸭腿汤\n",
      "3743               打卤面\n",
      "5398              芹黄鳝丝\n",
      "1898              老式面包\n",
      "1900              泡椒凤爪\n",
      "2575           鸡蛋、肉末肠粉\n",
      "4291             凉拌萝卜丝\n",
      "4315              快炒黄鳝\n",
      "5616              拌土豆丝\n",
      "5661            38度剑南春\n",
      "4808           52度泸州老窖\n",
      "5696              鲜美鳝鱼\n",
      "5692           党参黄芪炖牛尾\n",
      "6630            牛肉鸡蛋肠粉\n",
      "5425          凉拌海带豆芽紫菜\n",
      "5768              杭椒鸡珍\n",
      "4121              三丝鳝鱼\n",
      "2739              辣炒花蛤\n",
      "7758              爆炒双丝\n",
      "7763            咖啡奶香面包\n",
      "7762               牛奶卷\n",
      "7064            海带结豆腐汤\n",
      "4683              冰镇花螺\n",
      "4115             冬瓜炒苦瓜\n",
      "7168           超人气广式肠粉\n",
      "858         百里香奶油烤紅酒牛肉\n",
      "Name: dishes_name, Length: 145, dtype: object\n",
      "(10037, 18)\n",
      "(10037, 18)\n"
     ],
     "output_type": "stream"
    }
   ],
   "source": [
    "# 3、使用drop_duplicates\n",
    "dishes_name = detail['dishes_name'].drop_duplicates()\n",
    "print(dishes_name)\n",
    "\n",
    "print(detail.shape)\n",
    "detail.drop_duplicates(subset=['order_id','emp_id'])\n",
    "print(detail.shape)"
   ]
  },
  {
   "cell_type": "code",
   "execution_count": 5,
   "metadata": {
    "pycharm": {
     "is_executing": false,
     "name": "#%%\n"
    }
   },
   "outputs": [
    {
     "name": "stdout",
     "text": [
      "                   order_id  dishes_id  logicprn_name  parent_class_name  \\\n",
      "order_id               True      False          False              False   \n",
      "dishes_id             False       True          False              False   \n",
      "logicprn_name         False      False           True               True   \n",
      "parent_class_name     False      False           True               True   \n",
      "dishes_name           False      False          False              False   \n",
      "itemis_add            False      False          False              False   \n",
      "counts                False      False          False              False   \n",
      "amounts               False      False          False              False   \n",
      "cost                  False      False           True               True   \n",
      "place_order_time      False      False          False              False   \n",
      "discount_amt          False      False           True               True   \n",
      "discount_reason       False      False           True               True   \n",
      "kick_back             False      False           True               True   \n",
      "add_inprice           False      False          False              False   \n",
      "add_info              False      False           True               True   \n",
      "bar_code              False      False           True               True   \n",
      "picture_file          False      False          False              False   \n",
      "emp_id                False      False          False              False   \n",
      "\n",
      "                   dishes_name  itemis_add  counts  amounts   cost  \\\n",
      "order_id                 False       False   False    False  False   \n",
      "dishes_id                False       False   False    False  False   \n",
      "logicprn_name            False       False   False    False   True   \n",
      "parent_class_name        False       False   False    False   True   \n",
      "dishes_name               True       False   False    False  False   \n",
      "itemis_add               False        True   False    False  False   \n",
      "counts                   False       False    True    False  False   \n",
      "amounts                  False       False   False     True  False   \n",
      "cost                     False       False   False    False   True   \n",
      "place_order_time         False       False   False    False  False   \n",
      "discount_amt             False       False   False    False   True   \n",
      "discount_reason          False       False   False    False   True   \n",
      "kick_back                False       False   False    False   True   \n",
      "add_inprice              False        True   False    False  False   \n",
      "add_info                 False       False   False    False   True   \n",
      "bar_code                 False       False   False    False   True   \n",
      "picture_file             False       False   False    False  False   \n",
      "emp_id                   False       False   False    False  False   \n",
      "\n",
      "                   place_order_time  discount_amt  discount_reason  kick_back  \\\n",
      "order_id                      False         False            False      False   \n",
      "dishes_id                     False         False            False      False   \n",
      "logicprn_name                 False          True             True       True   \n",
      "parent_class_name             False          True             True       True   \n",
      "dishes_name                   False         False            False      False   \n",
      "itemis_add                    False         False            False      False   \n",
      "counts                        False         False            False      False   \n",
      "amounts                       False         False            False      False   \n",
      "cost                          False          True             True       True   \n",
      "place_order_time               True         False            False      False   \n",
      "discount_amt                  False          True             True       True   \n",
      "discount_reason               False          True             True       True   \n",
      "kick_back                     False          True             True       True   \n",
      "add_inprice                   False         False            False      False   \n",
      "add_info                      False          True             True       True   \n",
      "bar_code                      False          True             True       True   \n",
      "picture_file                  False         False            False      False   \n",
      "emp_id                        False         False            False      False   \n",
      "\n",
      "                   add_inprice  add_info  bar_code  picture_file  emp_id  \n",
      "order_id                 False     False     False         False   False  \n",
      "dishes_id                False     False     False         False   False  \n",
      "logicprn_name            False      True      True         False   False  \n",
      "parent_class_name        False      True      True         False   False  \n",
      "dishes_name              False     False     False         False   False  \n",
      "itemis_add                True     False     False         False   False  \n",
      "counts                   False     False     False         False   False  \n",
      "amounts                  False     False     False         False   False  \n",
      "cost                     False      True      True         False   False  \n",
      "place_order_time         False     False     False         False   False  \n",
      "discount_amt             False      True      True         False   False  \n",
      "discount_reason          False      True      True         False   False  \n",
      "kick_back                False      True      True         False   False  \n",
      "add_inprice               True     False     False         False   False  \n",
      "add_info                 False      True      True         False   False  \n",
      "bar_code                 False      True      True         False   False  \n",
      "picture_file             False     False     False          True   False  \n",
      "emp_id                   False     False     False         False    True  \n"
     ],
     "output_type": "stream"
    }
   ],
   "source": [
    "# 2、两列数据完全一样、去重\n",
    "def FeatureEquals(df):\n",
    "    dfEquals = pd.DataFrame([],columns=df.columns,index=df.columns)\n",
    "    for i in df.columns:\n",
    "        for j in df.columns:\n",
    "            dfEquals.loc[i,j]=df.loc[:,i].equals(df.loc[:,j])\n",
    "    return dfEquals\n",
    "\n",
    "detEquals = FeatureEquals(detail)\n",
    "print(detEquals)"
   ]
  },
  {
   "cell_type": "code",
   "execution_count": 6,
   "metadata": {
    "pycharm": {
     "is_executing": false,
     "name": "#%%\n"
    }
   },
   "outputs": [],
   "source": [
    "lenDet =detEquals.shape[0]\n",
    "dupCol = []\n",
    "for k in range(lenDet):\n",
    "    for l in range(k+1,lenDet):\n",
    "        if detEquals.iloc[k,l] & (detEquals.columns[l] not in dupCol):\n",
    "            dupCol.append((detEquals.columns[l]))\n",
    "\n",
    "detail.drop(dupCol,axis=1,inplace=True)"
   ]
  },
  {
   "cell_type": "code",
   "execution_count": 7,
   "metadata": {
    "pycharm": {
     "is_executing": false,
     "name": "#%%\n"
    }
   },
   "outputs": [
    {
     "name": "stdout",
     "text": [
      "           counts   amounts\n",
      "counts   1.000000 -0.229968\n",
      "amounts -0.229968  1.000000\n"
     ],
     "output_type": "stream"
    }
   ],
   "source": [
    "# 相关性\n",
    "detail=pd.read_csv(\"./data/detail.csv\",encoding=\"gbk\",index_col=0)\n",
    "# 相似性 -1~1\n",
    "# kendall pearson spearman\n",
    "coorDet = detail[['counts','amounts']].corr(method='kendall')\n",
    "print(coorDet)"
   ]
  },
  {
   "cell_type": "code",
   "execution_count": 8,
   "metadata": {
    "pycharm": {
     "is_executing": false,
     "name": "#%%\n"
    }
   },
   "outputs": [
    {
     "name": "stdout",
     "text": [
      "order_id                 0\n",
      "dishes_id                0\n",
      "logicprn_name        10037\n",
      "parent_class_name    10037\n",
      "dishes_name              0\n",
      "itemis_add               0\n",
      "counts                   0\n",
      "amounts                  0\n",
      "cost                 10037\n",
      "place_order_time         0\n",
      "discount_amt         10037\n",
      "discount_reason      10037\n",
      "kick_back            10037\n",
      "add_inprice              0\n",
      "add_info             10037\n",
      "bar_code             10037\n",
      "picture_file             0\n",
      "emp_id                   0\n",
      "dtype: int64\n"
     ],
     "output_type": "stream"
    }
   ],
   "source": [
    "# 处理缺失值\n",
    "# 打印出空值的数量\n",
    "print(detail.isnull().sum())"
   ]
  },
  {
   "cell_type": "code",
   "execution_count": 9,
   "metadata": {
    "pycharm": {
     "is_executing": false,
     "name": "#%%\n"
    }
   },
   "outputs": [
    {
     "name": "stdout",
     "text": [
      "order_id             10037\n",
      "dishes_id            10037\n",
      "logicprn_name            0\n",
      "parent_class_name        0\n",
      "dishes_name          10037\n",
      "itemis_add           10037\n",
      "counts               10037\n",
      "amounts              10037\n",
      "cost                     0\n",
      "place_order_time     10037\n",
      "discount_amt             0\n",
      "discount_reason          0\n",
      "kick_back                0\n",
      "add_inprice          10037\n",
      "add_info                 0\n",
      "bar_code                 0\n",
      "picture_file         10037\n",
      "emp_id               10037\n",
      "dtype: int64\n"
     ],
     "output_type": "stream"
    }
   ],
   "source": [
    "# 打印出非空值的总数\n",
    "print(detail.notnull().sum())"
   ]
  },
  {
   "cell_type": "code",
   "execution_count": 10,
   "metadata": {
    "pycharm": {
     "is_executing": false,
     "name": "#%%\n"
    }
   },
   "outputs": [
    {
     "name": "stdout",
     "text": [
      "(10037, 18)\n",
      "(10037, 10)\n"
     ],
     "output_type": "stream"
    }
   ],
   "source": [
    "# 1.删除法\n",
    "print(detail.shape)\n",
    "\n",
    "# how='any' 任何一个是空一列都删除, 'all'所有的是空才删除\n",
    "print(detail.dropna(axis=1, how='any').shape)  #axis=1表示列方向上来删除"
   ]
  },
  {
   "cell_type": "code",
   "execution_count": 11,
   "metadata": {
    "pycharm": {
     "is_executing": false,
     "name": "#%%\n"
    }
   },
   "outputs": [
    {
     "name": "stdout",
     "text": [
      "order_id             0\n",
      "dishes_id            0\n",
      "logicprn_name        0\n",
      "parent_class_name    0\n",
      "dishes_name          0\n",
      "itemis_add           0\n",
      "counts               0\n",
      "amounts              0\n",
      "cost                 0\n",
      "place_order_time     0\n",
      "discount_amt         0\n",
      "discount_reason      0\n",
      "kick_back            0\n",
      "add_inprice          0\n",
      "add_info             0\n",
      "bar_code             0\n",
      "picture_file         0\n",
      "emp_id               0\n",
      "dtype: int64\n"
     ],
     "output_type": "stream"
    }
   ],
   "source": [
    "# 2. 替换法\n",
    "print(detail.fillna(0).isnull().sum())"
   ]
  },
  {
   "cell_type": "code",
   "execution_count": 12,
   "metadata": {
    "pycharm": {
     "is_executing": false,
     "name": "#%%\n"
    }
   },
   "outputs": [
    {
     "name": "stdout",
     "text": [
      "[ 76. 102.]\n",
      "[13. 15.]\n"
     ],
     "output_type": "stream"
    }
   ],
   "source": [
    "# 插值法\n",
    "import numpy as np\n",
    "from scipy.interpolate import interp1d # 数字1\n",
    "#https://blog.csdn.net/u014106566/article/details/84254064\n",
    "\n",
    "#根据原始点拟合函数，再根据函数再求缺失值。\n",
    "x = np.array([1,2,3,4,5,8,9,10])\n",
    "y1 = np.array([2,8,18,32,50,128,162,200])\n",
    "y2 = np.array([3,5,7,9,11,17,19,21])\n",
    "\n",
    "# kind='linear'修改成自己想要的插值方法  'nearest', 'zero', 'quadratic','linear', 'cubic'\n",
    "LinearInsValue1 = interp1d(x, y1, kind='linear')\n",
    "LinearInsValue2 = interp1d(x, y2, kind='linear')\n",
    "\n",
    "print(LinearInsValue1([6,7]))\n",
    "print(LinearInsValue2([6,7]))"
   ]
  },
  {
   "cell_type": "code",
   "execution_count": 13,
   "metadata": {
    "pycharm": {
     "is_executing": false,
     "name": "#%%\n"
    }
   },
   "outputs": [
    {
     "name": "stdout",
     "text": [
      "[72. 98.]\n",
      "[13. 15.]\n"
     ],
     "output_type": "stream"
    }
   ],
   "source": [
    "# 拉格朗日插值法\n",
    "from scipy.interpolate import lagrange\n",
    "\n",
    "LargeInsValue1 = lagrange(x, y1)\n",
    "LargeInsValue2 = lagrange(x, y2)\n",
    "\n",
    "print(LargeInsValue1([6,7]))\n",
    "print(LargeInsValue2([6,7]))"
   ]
  },
  {
   "cell_type": "code",
   "execution_count": 14,
   "metadata": {
    "pycharm": {
     "is_executing": false,
     "name": "#%%\n"
    }
   },
   "outputs": [
    {
     "traceback": [
      "\u001b[1;31m---------------------------------------------------------------------------\u001b[0m",
      "\u001b[1;31mImportError\u001b[0m                               Traceback (most recent call last)",
      "\u001b[1;32m<ipython-input-14-cc04e9a88a21>\u001b[0m in \u001b[0;36m<module>\u001b[1;34m\u001b[0m\n\u001b[0;32m      1\u001b[0m \u001b[1;31m# 样条插值法\u001b[0m\u001b[1;33m\u001b[0m\u001b[1;33m\u001b[0m\u001b[1;33m\u001b[0m\u001b[0m\n\u001b[1;32m----> 2\u001b[1;33m \u001b[1;32mfrom\u001b[0m \u001b[0mscipy\u001b[0m\u001b[1;33m.\u001b[0m\u001b[0minterpolate\u001b[0m \u001b[1;32mimport\u001b[0m \u001b[0mspline\u001b[0m\u001b[1;33m\u001b[0m\u001b[1;33m\u001b[0m\u001b[0m\n\u001b[0m\u001b[0;32m      3\u001b[0m \u001b[1;33m\u001b[0m\u001b[0m\n\u001b[0;32m      4\u001b[0m \u001b[0mSplineInsValue1\u001b[0m \u001b[1;33m=\u001b[0m \u001b[0mspline\u001b[0m\u001b[1;33m(\u001b[0m\u001b[0mx\u001b[0m\u001b[1;33m,\u001b[0m \u001b[0my1\u001b[0m\u001b[1;33m,\u001b[0m \u001b[0mxnew\u001b[0m\u001b[1;33m=\u001b[0m\u001b[0mnp\u001b[0m\u001b[1;33m.\u001b[0m\u001b[0marray\u001b[0m\u001b[1;33m(\u001b[0m\u001b[1;33m[\u001b[0m\u001b[1;36m6\u001b[0m\u001b[1;33m,\u001b[0m\u001b[1;36m7\u001b[0m\u001b[1;33m]\u001b[0m\u001b[1;33m)\u001b[0m\u001b[1;33m)\u001b[0m\u001b[1;33m\u001b[0m\u001b[1;33m\u001b[0m\u001b[0m\n\u001b[0;32m      5\u001b[0m \u001b[0mSplineInsValue2\u001b[0m \u001b[1;33m=\u001b[0m \u001b[0mspline\u001b[0m\u001b[1;33m(\u001b[0m\u001b[0mx\u001b[0m\u001b[1;33m,\u001b[0m \u001b[0my2\u001b[0m\u001b[1;33m,\u001b[0m \u001b[0mxnew\u001b[0m\u001b[1;33m=\u001b[0m\u001b[0mnp\u001b[0m\u001b[1;33m.\u001b[0m\u001b[0marray\u001b[0m\u001b[1;33m(\u001b[0m\u001b[1;33m[\u001b[0m\u001b[1;36m6\u001b[0m\u001b[1;33m,\u001b[0m\u001b[1;36m7\u001b[0m\u001b[1;33m]\u001b[0m\u001b[1;33m)\u001b[0m\u001b[1;33m)\u001b[0m\u001b[1;33m\u001b[0m\u001b[1;33m\u001b[0m\u001b[0m\n",
      "\u001b[1;31mImportError\u001b[0m: cannot import name 'spline'"
     ],
     "ename": "ImportError",
     "evalue": "cannot import name 'spline'",
     "output_type": "error"
    }
   ],
   "source": [
    "# 样条插值法\n",
    "from scipy.interpolate import spline\n",
    "\n",
    "SplineInsValue1 = spline(x, y1, xnew=np.array([6,7]))\n",
    "SplineInsValue2 = spline(x, y2, xnew=np.array([6,7]))\n",
    "\n",
    "print(SplineInsValue1)\n",
    "print(SplineInsValue2)"
   ]
  },
  {
   "cell_type": "code",
   "execution_count": null,
   "metadata": {
    "pycharm": {
     "is_executing": false,
     "name": "#%%\n"
    }
   },
   "outputs": [],
   "source": [
    "# 3.处理异常值，检测异常值\n",
    "\n",
    "\n",
    "\n",
    "Ser1 = detail['counts']\n",
    "\n",
    "\n",
    "boolInd = (Ser1.mean()-3*Ser1.std() > Ser1 )  | (Ser1.mean()+3*Ser1.std() < Ser1 )\n",
    "\n",
    "\n",
    "print(detail['counts'][boolInd].shape)\n",
    "\n",
    "print(detail['counts'].shape)\n",
    "\n",
    "#print(boolInd1)\n",
    "#print(boolInd2)\n",
    "\n",
    "\n",
    "\n",
    "#print()\n",
    "\n",
    "\n",
    "\n"
   ]
  },
  {
   "cell_type": "code",
   "execution_count": null,
   "metadata": {
    "pycharm": {
     "is_executing": false,
     "name": "#%%\n"
    }
   },
   "outputs": [],
   "source": [
    "# 通过画图的方式找异常值。\n",
    "# 下午讲画图。\n"
   ]
  }
 ],
 "metadata": {
  "kernelspec": {
   "display_name": "Python 3",
   "language": "python",
   "name": "python3"
  },
  "language_info": {
   "codemirror_mode": {
    "name": "ipython",
    "version": 3
   },
   "file_extension": ".py",
   "mimetype": "text/x-python",
   "name": "python",
   "nbconvert_exporter": "python",
   "pygments_lexer": "ipython3",
   "version": "3.6.10"
  },
  "pycharm": {
   "stem_cell": {
    "cell_type": "raw",
    "source": [],
    "metadata": {
     "collapsed": false
    }
   }
  }
 },
 "nbformat": 4,
 "nbformat_minor": 1
}