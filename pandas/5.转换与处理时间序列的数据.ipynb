{
 "cells": [
  {
   "cell_type": "code",
   "execution_count": 1,
   "metadata": {
    "collapsed": true,
    "pycharm": {
     "is_executing": false
    }
   },
   "outputs": [
    {
     "name": "stdout",
     "text": [
      "   info_id  emp_id  number_consumers  mode  dining_table_id  \\\n",
      "0      417    1442                 4   NaN             1501   \n",
      "1      301    1095                 3   NaN             1430   \n",
      "2      413    1147                 6   NaN             1488   \n",
      "3      415    1166                 4   NaN             1502   \n",
      "4      392    1094                10   NaN             1499   \n",
      "\n",
      "   dining_table_name  expenditure  dishes_count  accounts_payable  \\\n",
      "0               1022          165             5               165   \n",
      "1               1031          321             6               321   \n",
      "2               1009          854            15               854   \n",
      "3               1023          466            10               466   \n",
      "4               1020          704            24               704   \n",
      "\n",
      "      use_start_time  ...          lock_time cashier_id  pc_id  order_number  \\\n",
      "0  2016/8/1 11:05:36  ...  2016/8/1 11:11:46        NaN    NaN           NaN   \n",
      "1  2016/8/1 11:15:57  ...  2016/8/1 11:31:55        NaN    NaN           NaN   \n",
      "2  2016/8/1 12:42:52  ...  2016/8/1 12:54:37        NaN    NaN           NaN   \n",
      "3  2016/8/1 12:51:38  ...  2016/8/1 13:08:20        NaN    NaN           NaN   \n",
      "4  2016/8/1 12:58:44  ...  2016/8/1 13:07:16        NaN    NaN           NaN   \n",
      "\n",
      "   org_id  print_doc_bill_num  lock_table_info  order_status        phone  \\\n",
      "0     330                 NaN              NaN             1  18688880641   \n",
      "1     328                 NaN              NaN             1  18688880174   \n",
      "2     330                 NaN              NaN             1  18688880276   \n",
      "3     330                 NaN              NaN             1  18688880231   \n",
      "4     330                 NaN              NaN             1  18688880173   \n",
      "\n",
      "   name  \n",
      "0   苗宇怡  \n",
      "1    赵颖  \n",
      "2   徐毅凡  \n",
      "3   张大鹏  \n",
      "4   孙熙凯  \n",
      "\n",
      "[5 rows x 21 columns]\n"
     ],
     "output_type": "stream"
    }
   ],
   "source": [
    "import numpy as np\n",
    "import pandas as pd\n",
    "\n",
    "order = pd.read_csv(\"./data/meal_order_info.csv\",encoding=\"gbk\")\n",
    "print(order.head())\n"
   ]
  },
  {
   "cell_type": "code",
   "execution_count": 12,
   "outputs": [
    {
     "name": "stdout",
     "text": [
      "datetime64[ns]\n",
      "datetime64[ns]\n",
      "<class 'pandas.core.indexes.datetimes.DatetimeIndex'>\n"
     ],
     "output_type": "stream"
    }
   ],
   "source": [
    "# 转换字符串为标准时间\n",
    "print(order['lock_time'].dtypes)\n",
    "\n",
    "order['lock_time']=pd.to_datetime(order['lock_time'])\n",
    "print(order['lock_time'].dtypes)\n"
   ],
   "metadata": {
    "collapsed": false,
    "pycharm": {
     "name": "#%%\n",
     "is_executing": false
    }
   }
  },
  {
   "cell_type": "code",
   "execution_count": 14,
   "outputs": [
    {
     "name": "stdout",
     "text": [
      "<class 'pandas.core.indexes.datetimes.DatetimeIndex'>\n",
      "<class 'pandas.core.indexes.period.PeriodIndex'>\n"
     ],
     "output_type": "stream"
    }
   ],
   "source": [
    "# 时间字符串/datatime64转换成DatetimeIndex和periodIndex\n",
    "dateIndex=pd.DatetimeIndex(order['lock_time'])\n",
    "print(type(dateIndex))\n",
    "\n",
    "periodIndex=pd.PeriodIndex(order['lock_time'],freq='S') #Y M D H M S\n",
    "print(type(periodIndex))"
   ],
   "metadata": {
    "collapsed": false,
    "pycharm": {
     "name": "#%%\n",
     "is_executing": false
    }
   }
  },
  {
   "cell_type": "code",
   "execution_count": 20,
   "outputs": [
    {
     "name": "stdout",
     "text": [
      "{2016, nan}\n",
      "{8, nan}\n",
      "{nan, 1, 2, 3, 4, 5, 6, 7, 8, 9, 10, 11, 12, 13, 14, 15, 16, 17, 18, 19, 20, 21, 22, 23, 24, 25, 26, 27, 28, 29, 30, 31}\n"
     ],
     "output_type": "stream"
    }
   ],
   "source": [
    "#提取时间序列数据信息\n",
    "year1 = [i.year for i in order['lock_time']]\n",
    "print(set(year1))\n",
    "\n",
    "month1 = [i.month for i in order['lock_time']]\n",
    "print(set(month1))\n",
    "\n",
    "weekday1 = [i.day for i in order['lock_time']]\n",
    "print(set(weekday1))"
   ],
   "metadata": {
    "collapsed": false,
    "pycharm": {
     "name": "#%%\n",
     "is_executing": false
    }
   }
  },
  {
   "cell_type": "code",
   "execution_count": 24,
   "outputs": [
    {
     "name": "stdout",
     "text": [
      "{nan, 'Friday', 'Saturday', 'Tuesday', 'Sunday', 'Monday', 'Thursday', 'Wednesday'}\n",
      "{0, 1, 2, 3, 4, 5, 6, -1}\n"
     ],
     "output_type": "stream"
    }
   ],
   "source": [
    "# 提取DatetimeIndex和PeriodIndex中的数据\n",
    "print(set(dateIndex.weekday_name))\n",
    "print(set(periodIndex.weekday))"
   ],
   "metadata": {
    "collapsed": false,
    "pycharm": {
     "name": "#%%\n",
     "is_executing": false
    }
   }
  },
  {
   "cell_type": "code",
   "execution_count": 26,
   "outputs": [
    {
     "name": "stdout",
     "text": [
      "0   2016-08-01 11:11:46\n",
      "1   2016-08-01 11:31:55\n",
      "2   2016-08-01 12:54:37\n",
      "3   2016-08-01 13:08:20\n",
      "4   2016-08-01 13:07:16\n",
      "Name: lock_time, dtype: datetime64[ns]\n",
      "0   2016-08-02 11:11:46\n",
      "1   2016-08-02 11:31:55\n",
      "2   2016-08-02 12:54:37\n",
      "3   2016-08-02 13:08:20\n",
      "4   2016-08-02 13:07:16\n",
      "Name: lock_time, dtype: datetime64[ns]\n",
      "0   2016-08-01 11:11:46\n",
      "1   2016-08-01 11:31:55\n",
      "2   2016-08-01 12:54:37\n",
      "3   2016-08-01 13:08:20\n",
      "4   2016-08-01 13:07:16\n",
      "Name: lock_time, dtype: datetime64[ns]\n",
      "0   2016-07-31 11:11:46\n",
      "1   2016-07-31 11:31:55\n",
      "2   2016-07-31 12:54:37\n",
      "3   2016-07-31 13:08:20\n",
      "4   2016-07-31 13:07:16\n",
      "Name: lock_time, dtype: datetime64[ns]\n"
     ],
     "output_type": "stream"
    }
   ],
   "source": [
    "#时间加、减\n",
    "time1= order['lock_time']+pd.Timedelta(days=1) # weeks/days/hours/minutes/seconds/milliseconds/microseconds/...\n",
    "print(order['lock_time'][:5])\n",
    "print(time1[:5])\n",
    "\n",
    "time1= order['lock_time']-pd.Timedelta(days=1) # weeks/days/hours/minutes/seconds/milliseconds/microseconds/...\n",
    "print(order['lock_time'][:5])\n",
    "print(time1[:5])"
   ],
   "metadata": {
    "collapsed": false,
    "pycharm": {
     "name": "#%%\n",
     "is_executing": false
    }
   }
  }
 ],
 "metadata": {
  "kernelspec": {
   "display_name": "Python 3",
   "language": "python",
   "name": "python3"
  },
  "language_info": {
   "codemirror_mode": {
    "name": "ipython",
    "version": 2
   },
   "file_extension": ".py",
   "mimetype": "text/x-python",
   "name": "python",
   "nbconvert_exporter": "python",
   "pygments_lexer": "ipython2",
   "version": "2.7.6"
  },
  "pycharm": {
   "stem_cell": {
    "cell_type": "raw",
    "source": [],
    "metadata": {
     "collapsed": false
    }
   }
  }
 },
 "nbformat": 4,
 "nbformat_minor": 0
}