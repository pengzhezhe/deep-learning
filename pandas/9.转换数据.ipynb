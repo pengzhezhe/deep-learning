{
 "cells": [
  {
   "cell_type": "code",
   "execution_count": 10,
   "metadata": {
    "collapsed": true,
    "pycharm": {
     "is_executing": false
    }
   },
   "outputs": [],
   "source": [
    "import pandas as pd\n",
    "import numpy as np\n",
    "\n",
    "detail = pd.read_csv('./data/detail.csv', encoding='gbk')"
   ]
  },
  {
   "cell_type": "code",
   "execution_count": 11,
   "outputs": [
    {
     "name": "stdout",
     "text": [
      "0     蒜蓉生蚝\n",
      "1    蒙古烤羊腿\n",
      "2     大蒜苋菜\n",
      "3    芝麻烤紫菜\n",
      "4      蒜香包\n",
      "5      白斩鸡\n",
      "Name: dishes_name, dtype: object\n",
      "   大蒜苋菜  白斩鸡  芝麻烤紫菜  蒙古烤羊腿  蒜蓉生蚝  蒜香包\n",
      "0     0    0      0      0     1    0\n",
      "1     0    0      0      1     0    0\n",
      "2     1    0      0      0     0    0\n",
      "3     0    0      1      0     0    0\n",
      "4     0    0      0      0     0    1\n",
      "5     0    1      0      0     0    0\n"
     ],
     "output_type": "stream"
    }
   ],
   "source": [
    "# 哑变量\n",
    "data = detail.loc[:5,'dishes_name']\n",
    "print(data)\n",
    "\n",
    "data = pd.get_dummies(data)\n",
    "print(data)"
   ],
   "metadata": {
    "collapsed": false,
    "pycharm": {
     "name": "#%%\n",
     "is_executing": false
    }
   }
  },
  {
   "cell_type": "code",
   "execution_count": 12,
   "outputs": [
    {
     "name": "stdout",
     "text": [
      "(0.823, 36.4]     5461\n",
      "(36.4, 71.8]      3157\n",
      "(71.8, 107.2]      839\n",
      "(142.6, 178.0]     426\n",
      "(107.2, 142.6]     154\n",
      "Name: amounts, dtype: int64\n"
     ],
     "output_type": "stream"
    }
   ],
   "source": [
    "# 单个的连续数据，  变成离散数据， \n",
    "# print(detail['amounts'])\n",
    "\n",
    "# 等宽法\n",
    "# pd.cut 参数输入的是数字，就根据等宽法来切割，如果输入的是具体的值的范围，就根据具体的范围来分\n",
    "data = pd.cut(detail['amounts'],5)\n",
    "print(data.value_counts()) # 统计每个区间的数量\n",
    "\n"
   ],
   "metadata": {
    "collapsed": false,
    "pycharm": {
     "name": "#%%\n",
     "is_executing": false
    }
   }
  },
  {
   "cell_type": "code",
   "execution_count": 13,
   "outputs": [
    {
     "name": "stdout",
     "text": [
      "<class 'pandas.core.series.Series'>\n",
      "0.0      1.0\n",
      "0.2     18.0\n",
      "0.4     32.0\n",
      "0.6     39.0\n",
      "0.8     58.0\n",
      "1.0    178.0\n",
      "Name: amounts, dtype: float64\n",
      "(18.0, 32.0]     2107\n",
      "(39.0, 58.0]     2080\n",
      "(32.0, 39.0]     1910\n",
      "(1.0, 18.0]      1891\n",
      "(58.0, 178.0]    1863\n",
      "Name: amounts, dtype: int64\n"
     ],
     "output_type": "stream"
    }
   ],
   "source": [
    "# 等频法，每个区间的数量一致\n",
    "# 1,2,3,3,3,3,5,7\n",
    "# 1,2,3,3,3,3,\n",
    "# 5,7\n",
    "\n",
    "data = detail['amounts']\n",
    "\n",
    "# 范围排名0,0.2,0.4,...,1的具体的值\n",
    "w = data.quantile(np.array([0,0.2,0.4,0.6,0.8,1]))\n",
    "print(type(w))\n",
    "print(w)\n",
    "#print(data)\n",
    "\n",
    "# 把边界值给后面的范围\n",
    "data = pd.cut(data, w)\n",
    "print(data.value_counts())"
   ],
   "metadata": {
    "collapsed": false,
    "pycharm": {
     "name": "#%%\n",
     "is_executing": false
    }
   }
  },
  {
   "cell_type": "code",
   "execution_count": 14,
   "outputs": [
    {
     "name": "stdout",
     "text": [
      "<class 'pandas.core.series.Series'>\n",
      "(22.31, 43.51]       3690\n",
      "(43.51, 73.945]      2474\n",
      "(1.0, 22.31]         2268\n",
      "(73.945, 131.858]     993\n",
      "(131.858, 178.0]      426\n",
      "Name: amounts, dtype: int64\n"
     ],
     "output_type": "stream"
    }
   ],
   "source": [
    "# k-means算法进行分类\n",
    "from sklearn.cluster import KMeans\n",
    "\n",
    "data = detail['amounts']\n",
    "\n",
    "#进行聚类，分成5类\n",
    "kmodel = KMeans(n_clusters = 5,random_state=123)\n",
    "\n",
    "# 需要传入\n",
    "data = data.values.reshape((len(data),1))\n",
    "\n",
    "#训练数据\n",
    "kmodel.fit(data)\n",
    "\n",
    "#输出聚类的中心点并排序\n",
    "#之所以这里使用DataFrame，是因为聚类的数据的特征值可以不止一个\n",
    "c = pd.DataFrame(kmodel.cluster_centers_).sort_values(0)\n",
    "#print(c)\n",
    "\n",
    "#计算分界点\n",
    "w = c.rolling(2).mean().iloc[1:]\n",
    "print(type(w[0]))\n",
    "\n",
    "#分成5份，需要6个边界值\n",
    "w = [data.min()] + list(w[0]) + [data.max()]\n",
    "\n",
    "\n",
    "data = detail['amounts']\n",
    "data = pd.cut(data, w) # w值使用array和list都是可以的\n",
    "\n",
    "print(data.value_counts())"
   ],
   "metadata": {
    "collapsed": false,
    "pycharm": {
     "name": "#%%\n",
     "is_executing": false
    }
   }
  }
 ],
 "metadata": {
  "kernelspec": {
   "display_name": "Python 3",
   "language": "python",
   "name": "python3"
  },
  "language_info": {
   "codemirror_mode": {
    "name": "ipython",
    "version": 2
   },
   "file_extension": ".py",
   "mimetype": "text/x-python",
   "name": "python",
   "nbconvert_exporter": "python",
   "pygments_lexer": "ipython2",
   "version": "2.7.6"
  },
  "pycharm": {
   "stem_cell": {
    "cell_type": "raw",
    "source": [],
    "metadata": {
     "collapsed": false
    }
   }
  }
 },
 "nbformat": 4,
 "nbformat_minor": 0
}