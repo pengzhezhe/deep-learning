{
 "cells": [
  {
   "cell_type": "code",
   "execution_count": 1,
   "metadata": {
    "collapsed": true,
    "pycharm": {
     "is_executing": false
    }
   },
   "outputs": [
    {
     "name": "stdout",
     "text": [
      "    A   B   C  D\n",
      "0  A1  B1  C1  1\n",
      "1  A2  B2  C2  2\n",
      "2  A3  B3  C3  3\n",
      "3  A4  B4  C4  4\n",
      "    B  D   F\n",
      "0  B1  1  F1\n",
      "1  B2  2  F2\n",
      "======外连接=====\n",
      "    A   B   C  D    B    D    F\n",
      "0  A1  B1  C1  1   B1  1.0   F1\n",
      "1  A2  B2  C2  2   B2  2.0   F2\n",
      "2  A3  B3  C3  3  NaN  NaN  NaN\n",
      "3  A4  B4  C4  4  NaN  NaN  NaN\n",
      "======内连接=====\n",
      "    A   B   C  D   B  D   F\n",
      "0  A1  B1  C1  1  B1  1  F1\n",
      "1  A2  B2  C2  2  B2  2  F2\n"
     ],
     "output_type": "stream"
    }
   ],
   "source": [
    "import numpy as np\n",
    "import pandas as pd\n",
    "\n",
    "tableA = pd.read_csv('./data/tableA.csv', encoding = 'utf8')\n",
    "tableB = pd.read_csv('./data/tableB.csv', encoding = 'utf8')\n",
    "print(tableA)\n",
    "print(tableB)\n",
    "\n",
    "#横向拼接就是(1)把列标签，依次轮流写好，(2)然后行标签（index索引进行合并）\n",
    "print(\"======外连接=====\")\n",
    "result = pd.concat([tableA,tableB],axis=1,join='outer')#axis=1横向拼接\n",
    "print(result)\n",
    "\n",
    "print(\"======内连接=====\") # 内连接和外连接的区别就是，内连接把外连接所有的NaN值的一行数据都删掉。\n",
    "result = pd.concat([tableA,tableB],axis=1,join='inner') #axis=1横向拼接\n",
    "print(result)"
   ]
  },
  {
   "cell_type": "code",
   "execution_count": 2,
   "outputs": [
    {
     "name": "stdout",
     "text": [
      "    A   B   C  D\n",
      "0  A1  B1  C1  1\n",
      "1  A2  B2  C2  2\n",
      "2  A3  B3  C3  3\n",
      "3  A4  B4  C4  4\n",
      "    B  D   F\n",
      "0  B1  1  F1\n",
      "1  B2  2  F2\n",
      "======外连接=====\n",
      "     A   B    C  D    F\n",
      "0   A1  B1   C1  1  NaN\n",
      "1   A2  B2   C2  2  NaN\n",
      "2   A3  B3   C3  3  NaN\n",
      "3   A4  B4   C4  4  NaN\n",
      "0  NaN  B1  NaN  1   F1\n",
      "1  NaN  B2  NaN  2   F2\n",
      "======内连接=====\n",
      "    B  D\n",
      "0  B1  1\n",
      "1  B2  2\n",
      "2  B3  3\n",
      "3  B4  4\n",
      "0  B1  1\n",
      "1  B2  2\n"
     ],
     "output_type": "stream"
    },
    {
     "name": "stderr",
     "text": [
      "C:\\Users\\44811\\.conda\\envs\\myenv\\lib\\site-packages\\ipykernel_launcher.py:6: FutureWarning: Sorting because non-concatenation axis is not aligned. A future version\n",
      "of pandas will change to not sort by default.\n",
      "\n",
      "To accept the future behavior, pass 'sort=False'.\n",
      "\n",
      "To retain the current behavior and silence the warning, pass 'sort=True'.\n",
      "\n",
      "  \n"
     ],
     "output_type": "stream"
    }
   ],
   "source": [
    "print(tableA)\n",
    "print(tableB)\n",
    "\n",
    "#纵向拼接就是(1)把行标签（index索引），依次轮流写好，(2)然后列标签进行合并）\n",
    "print(\"======外连接=====\")\n",
    "result = pd.concat([tableA,tableB],axis=0,join='outer')#axis=0横向拼接\n",
    "print(result)\n",
    "\n",
    "print(\"======内连接=====\") # 内连接和外连接的区别就是，内连接把外连接所有的NaN值的一列数据都删掉。\n",
    "#横向拼接删横向，纵向拼接删纵向\n",
    "result = pd.concat([tableA,tableB],axis=0,join='inner') #axis=0纵向拼接\n",
    "print(result)"
   ],
   "metadata": {
    "collapsed": false,
    "pycharm": {
     "name": "#%%\n",
     "is_executing": false
    }
   }
  },
  {
   "cell_type": "code",
   "execution_count": 3,
   "outputs": [
    {
     "name": "stdout",
     "text": [
      "     A   B    C  D    F\n",
      "0   A1  B1   C1  1  NaN\n",
      "1   A2  B2   C2  2  NaN\n",
      "2   A3  B3   C3  3  NaN\n",
      "3   A4  B4   C4  4  NaN\n",
      "0  NaN  B1  NaN  1   F1\n",
      "1  NaN  B2  NaN  2   F2\n"
     ],
     "output_type": "stream"
    },
    {
     "name": "stderr",
     "text": [
      "C:\\Users\\44811\\.conda\\envs\\myenv\\lib\\site-packages\\pandas\\core\\frame.py:6701: FutureWarning: Sorting because non-concatenation axis is not aligned. A future version\n",
      "of pandas will change to not sort by default.\n",
      "\n",
      "To accept the future behavior, pass 'sort=False'.\n",
      "\n",
      "To retain the current behavior and silence the warning, pass 'sort=True'.\n",
      "\n",
      "  sort=sort)\n"
     ],
     "output_type": "stream"
    }
   ],
   "source": [
    "result = tableA.append(tableB)  #纵向拼接的外连接\n",
    "print(result)"
   ],
   "metadata": {
    "collapsed": false,
    "pycharm": {
     "name": "#%%\n",
     "is_executing": false
    }
   }
  },
  {
   "cell_type": "code",
   "execution_count": 4,
   "outputs": [
    {
     "name": "stdout",
     "text": [
      "    A   B   C  D\n",
      "0  A1  B1  C1  1\n",
      "1  A2  B2  C2  2\n",
      "2  A3  B3  C3  3\n",
      "3  A4  B4  C4  4\n",
      "    B  D   F\n",
      "0  B1  1  F1\n",
      "1  B2  2  F2\n",
      "    A   B   C  D_x  D_y   F\n",
      "0  A1  B1  C1    1    1  F1\n",
      "1  A2  B2  C2    2    2  F2\n"
     ],
     "output_type": "stream"
    }
   ],
   "source": [
    "# merge可以合并两个列名不同的主键\n",
    "print(tableA)\n",
    "print(tableB)\n",
    "\n",
    "#内连接 左边选取主键，右边选取主键，把两个主键进行合并\n",
    "result = pd.merge(tableA,tableB,left_on='B',right_on = 'B')\n",
    "print(result)"
   ],
   "metadata": {
    "collapsed": false,
    "pycharm": {
     "name": "#%%\n",
     "is_executing": false
    }
   }
  },
  {
   "cell_type": "code",
   "execution_count": 5,
   "outputs": [
    {
     "name": "stdout",
     "text": [
      "    A   B   C  D\n",
      "0  A1  B1  C1  1\n",
      "1  A2  B2  C2  2\n",
      "2  A3  B3  C3  3\n",
      "3  A4  B4  C4  4\n",
      "    B  D   F\n",
      "0  B1  1  F1\n",
      "1  B2  2  F2\n",
      "    A   B   C\n",
      "D            \n",
      "1  A1  B1  C1\n",
      "2  A2  B2  C2\n",
      "3  A3  B3  C3\n",
      "4  A4  B4  C4\n",
      "    B   F\n",
      "D        \n",
      "1  B1  F1\n",
      "2  B2  F2\n",
      "    A   B   C   B1    F\n",
      "D                      \n",
      "1  A1  B1  C1   B1   F1\n",
      "2  A2  B2  C2   B2   F2\n",
      "3  A3  B3  C3  NaN  NaN\n",
      "4  A4  B4  C4  NaN  NaN\n"
     ],
     "output_type": "stream"
    }
   ],
   "source": [
    "# join方法也是主键合并，但是比上面的merge要求严格\n",
    "print(tableA)\n",
    "print(tableB)\n",
    "\n",
    "#与上面不同的是需要提前设置index的列名，并且保持一致\n",
    "#tableA.rename({'原名':'新名'})#如果index的名字不同，要修改名字\n",
    "tableA = tableA.set_index('D')\n",
    "tableB = tableB.set_index(\"D\")\n",
    "\n",
    "print(tableA)\n",
    "print(tableB)\n",
    "\n",
    "#外连接\n",
    "result = tableA.join(tableB,on='D',rsuffix='1') #rsuffix='1'  列名重叠，起个别名，因为只要主键合并，可能会有其他相同的列名\n",
    "print(result)"
   ],
   "metadata": {
    "collapsed": false,
    "pycharm": {
     "name": "#%%\n",
     "is_executing": false
    }
   }
  },
  {
   "cell_type": "code",
   "execution_count": 6,
   "outputs": [
    {
     "name": "stdout",
     "text": [
      "   ID System  cpu\n",
      "0   1  win10   i7\n",
      "1   2  win10   i5\n",
      "2   3    NaN  NaN\n",
      "3   4  win10   i7\n",
      "4   5    NaN  NaN\n",
      "5   6    NaN  NaN\n",
      "6   7   win7   i5\n",
      "7   8   win7   i5\n",
      "8   9   win8   i3\n",
      "   ID System\n",
      "0   1  win17\n",
      "1   2    NaN\n",
      "2   3   win7\n",
      "3   4    NaN\n",
      "4   5   win8\n",
      "5   6   win7\n",
      "6   7    NaN\n",
      "7   8    NaN\n",
      "8   9    NaN\n",
      "经过重叠合并后的数据为：\n",
      "    ID System  cpu\n",
      "0   1  win10   i7\n",
      "1   2  win10   i5\n",
      "2   3   win7  NaN\n",
      "3   4  win10   i7\n",
      "4   5   win8  NaN\n",
      "5   6   win7  NaN\n",
      "6   7   win7   i5\n",
      "7   8   win7   i5\n",
      "8   9   win8   i3\n"
     ],
     "output_type": "stream"
    }
   ],
   "source": [
    "dict1 = {'ID':[1,2,3,4,5,6,7,8,9],\n",
    "         'System':['win10','win10',np.nan,'win10',\n",
    "                np.nan,np.nan,'win7','win7','win8'],\n",
    "      'cpu':['i7','i5',np.nan,'i7',np.nan,np.nan,'i5','i5','i3']}\n",
    "\n",
    "dict2 = {'ID':[1,2,3,4,5,6,7,8,9],\n",
    "         'System':['win17',np.nan,'win7',np.nan,\n",
    "                'win8','win7',np.nan,np.nan,np.nan],}\n",
    "        #'cpu':[np.nan,np.nan,'i3',np.nan,'i7',\n",
    "                #'i5',np.nan,np.nan,np.nan]}\n",
    "## 转换两个字典为DataFrame\n",
    "df1 = pd.DataFrame(dict1)\n",
    "df2 = pd.DataFrame(dict2)\n",
    "\n",
    "print(df1)\n",
    "print(df2)\n",
    "\n",
    "print('经过重叠合并后的数据为：\\n',df1.combine_first(df2))"
   ],
   "metadata": {
    "collapsed": false,
    "pycharm": {
     "name": "#%%\n",
     "is_executing": false
    }
   }
  }
 ],
 "metadata": {
  "kernelspec": {
   "display_name": "Python 3",
   "language": "python",
   "name": "python3"
  },
  "language_info": {
   "codemirror_mode": {
    "name": "ipython",
    "version": 2
   },
   "file_extension": ".py",
   "mimetype": "text/x-python",
   "name": "python",
   "nbconvert_exporter": "python",
   "pygments_lexer": "ipython2",
   "version": "2.7.6"
  },
  "pycharm": {
   "stem_cell": {
    "cell_type": "raw",
    "source": [],
    "metadata": {
     "collapsed": false
    }
   }
  }
 },
 "nbformat": 4,
 "nbformat_minor": 0
}