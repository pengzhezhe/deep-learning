{
 "cells": [
  {
   "cell_type": "code",
   "execution_count": 1,
   "metadata": {
    "collapsed": true,
    "pycharm": {
     "is_executing": false
    }
   },
   "outputs": [],
   "source": [
    "import pandas as pd\n",
    "import numpy as np\n",
    "\n",
    "detail = pd.read_csv('./data/detail.csv', encoding='gbk')"
   ]
  },
  {
   "cell_type": "code",
   "execution_count": 2,
   "outputs": [
    {
     "name": "stdout",
     "text": [
      "0    49\n",
      "1    48\n",
      "2    30\n",
      "3    25\n",
      "4    13\n",
      "Name: amounts, dtype: int64\n",
      "0    0.271186\n",
      "1    0.265537\n",
      "2    0.163842\n",
      "3    0.135593\n",
      "4    0.067797\n",
      "Name: amounts, dtype: float64\n"
     ],
     "output_type": "stream"
    }
   ],
   "source": [
    "# 离差标准化 0~1  x* = (x-min)/(max-min)\n",
    "\n",
    "print(detail['amounts'].head())\n",
    "\n",
    "ser = detail['amounts']\n",
    "data = (ser - ser.min())/(ser.max()-ser.min())\n",
    "\n",
    "# 提取成函数 y = f(x)\n",
    "# x是series的数据\n",
    "# y是离差标准化之后的series数据\n",
    "print(data.head())\n"
   ],
   "metadata": {
    "collapsed": false,
    "pycharm": {
     "name": "#%%\n",
     "is_executing": false
    }
   }
  },
  {
   "cell_type": "code",
   "execution_count": 3,
   "outputs": [
    {
     "name": "stdout",
     "text": [
      "0    0.116671\n",
      "1    0.088751\n",
      "2   -0.413826\n",
      "3   -0.553431\n",
      "4   -0.888482\n",
      "Name: amounts, dtype: float64\n"
     ],
     "output_type": "stream"
    }
   ],
   "source": [
    "# 标准差标准化 x* = (x-均值)/标准差\n",
    "\n",
    "data = (ser - ser.mean())/ser.std()\n",
    "\n",
    "print(data.head())\n"
   ],
   "metadata": {
    "collapsed": false,
    "pycharm": {
     "name": "#%%\n",
     "is_executing": false
    }
   }
  },
  {
   "cell_type": "code",
   "execution_count": 4,
   "outputs": [
    {
     "name": "stdout",
     "text": [
      "1.2787536009528289\n",
      "2.0\n",
      "100.0\n",
      "[ 0.01  0.02  0.16 -0.06 -0.19  0.03  0.05]\n"
     ],
     "output_type": "stream"
    }
   ],
   "source": [
    "# 小数定标标准化  [-1,1]\n",
    "arr = np.array([1,2,16,-6,-19,3,5])\n",
    "\n",
    "\n",
    "max_abs = np.abs(arr).max()\n",
    "print(np.log10(max_abs))  # 10^x = max_abs\n",
    "\n",
    "print(np.ceil(np.log10(max_abs))) # 找到大于这个数，最近的整数值\n",
    "\n",
    "print(10**np.ceil(np.log10(max_abs)))\n",
    "\n",
    "print(arr/10**np.ceil(np.log10(max_abs)))\n"
   ],
   "metadata": {
    "collapsed": false,
    "pycharm": {
     "name": "#%%\n",
     "is_executing": false
    }
   }
  }
 ],
 "metadata": {
  "kernelspec": {
   "display_name": "Python 3",
   "language": "python",
   "name": "python3"
  },
  "language_info": {
   "codemirror_mode": {
    "name": "ipython",
    "version": 2
   },
   "file_extension": ".py",
   "mimetype": "text/x-python",
   "name": "python",
   "nbconvert_exporter": "python",
   "pygments_lexer": "ipython2",
   "version": "2.7.6"
  },
  "pycharm": {
   "stem_cell": {
    "cell_type": "raw",
    "source": [],
    "metadata": {
     "collapsed": false
    }
   }
  }
 },
 "nbformat": 4,
 "nbformat_minor": 0
}