{
 "cells": [
  {
   "cell_type": "code",
   "execution_count": 1,
   "metadata": {
    "collapsed": true,
    "pycharm": {
     "is_executing": false
    }
   },
   "outputs": [],
   "source": [
    "import numpy as np\n",
    "import pandas as pd\n",
    "\n",
    "detail = pd.read_csv(\"./data/meal_order_detail1.csv\",encoding=\"utf8\")"
   ]
  },
  {
   "cell_type": "code",
   "execution_count": 2,
   "metadata": {
    "pycharm": {
     "is_executing": false,
     "name": "#%%\n"
    }
   },
   "outputs": [
    {
     "name": "stdout",
     "text": [
      "<pandas.core.groupby.generic.DataFrameGroupBy object at 0x0000018B25D020F0>\n"
     ],
     "output_type": "stream"
    }
   ],
   "source": [
    "# 分组聚类\n",
    "\"\"\"\n",
    "name1 name2\n",
    "A       0                           A 0\n",
    "B       5                           A 5\n",
    "C       10                          A 10\n",
    "A       5    --根据name1分组聚类-->   B 5\n",
    "B       10                          B 10\n",
    "C       15                          B 15\n",
    "A       10                          C 10\n",
    "B       15                          C 15\n",
    "C       20                          C 20\n",
    "\"\"\"\n",
    "detailGroup = detail[['order_id','counts','amounts']].groupby(by='order_id')\n",
    "print(detailGroup)"
   ]
  },
  {
   "cell_type": "code",
   "execution_count": 3,
   "metadata": {
    "pycharm": {
     "is_executing": false,
     "name": "#%%\n"
    }
   },
   "outputs": [
    {
     "name": "stdout",
     "text": [
      "            counts    amounts\n",
      "order_id                     \n",
      "137       1.500000  32.333333\n",
      "165       1.166667  52.944444\n",
      "166       1.400000  48.200000\n",
      "171       1.428571  36.285714\n",
      "177       1.000000  34.250000\n",
      "            counts    amounts\n",
      "order_id                     \n",
      "137       1.224745  35.200379\n",
      "165       0.383482  52.193613\n",
      "166       0.547723  41.829415\n",
      "171       1.133893  19.267540\n",
      "177       0.000000  15.019432\n"
     ],
     "output_type": "stream"
    }
   ],
   "source": [
    "# 统计分组之后，每组的均值\n",
    "print(detailGroup.mean().head())\n",
    "print(detailGroup.std().head())"
   ]
  },
  {
   "cell_type": "code",
   "execution_count": 4,
   "metadata": {
    "pycharm": {
     "is_executing": false,
     "name": "#%%\n"
    }
   },
   "outputs": [
    {
     "name": "stdout",
     "text": [
      "order_id\n",
      "137     6\n",
      "165    18\n",
      "166     5\n",
      "171     7\n",
      "177     4\n",
      "dtype: int64\n"
     ],
     "output_type": "stream"
    }
   ],
   "source": [
    "# 每组元素的数列\n",
    "print(detailGroup.size().head())"
   ]
  },
  {
   "cell_type": "code",
   "execution_count": 5,
   "metadata": {
    "pycharm": {
     "is_executing": false,
     "name": "#%%\n"
    }
   },
   "outputs": [
    {
     "name": "stdout",
     "text": [
      "           counts        amounts\n",
      "sum   3088.000000  125992.000000\n",
      "mean     1.111191      45.337172\n"
     ],
     "output_type": "stream"
    }
   ],
   "source": [
    "# agg既可以对DataFrame进行统计，也能对DataFrameGroupBy进行统计\n",
    "print(detail[['counts','amounts']].agg([np.sum,np.mean]))"
   ]
  },
  {
   "cell_type": "code",
   "execution_count": 6,
   "metadata": {
    "pycharm": {
     "is_executing": false,
     "name": "#%%\n"
    }
   },
   "outputs": [
    {
     "name": "stdout",
     "text": [
      "      counts        amounts\n",
      "mean     NaN      45.337172\n",
      "sum   3088.0  125992.000000\n"
     ],
     "output_type": "stream"
    }
   ],
   "source": [
    "#agg函数求不同列的不同的统计结果\n",
    "print(detail.agg({'counts':np.sum,'amounts':[np.mean,np.sum]}))"
   ]
  },
  {
   "cell_type": "code",
   "execution_count": 7,
   "metadata": {
    "pycharm": {
     "is_executing": false,
     "name": "#%%\n"
    }
   },
   "outputs": [
    {
     "name": "stdout",
     "text": [
      "counts    6176.0\n",
      "dtype: float64\n",
      "counts       6176.0\n",
      "amounts    251984.0\n",
      "dtype: float64\n"
     ],
     "output_type": "stream"
    }
   ],
   "source": [
    "# agg 可以传入函数名。自定函数传入agg\n",
    "# 自定义函数求两倍的和\n",
    "def DoubleSum(data):\n",
    "    s=data.sum()*2\n",
    "    return s\n",
    "\n",
    "print(detail.agg({'counts':DoubleSum},axis=0)) #默认0 表示标签是列\n",
    "print(detail[['counts','amounts']].agg(DoubleSum))"
   ]
  },
  {
   "cell_type": "code",
   "execution_count": 8,
   "metadata": {
    "pycharm": {
     "is_executing": false,
     "name": "#%%\n"
    }
   },
   "outputs": [
    {
     "name": "stdout",
     "text": [
      "            counts    amounts\n",
      "order_id                     \n",
      "137       1.500000  32.333333\n",
      "165       1.166667  52.944444\n",
      "166       1.400000  48.200000\n",
      "171       1.428571  36.285714\n",
      "177       1.000000  34.250000\n",
      "            counts    amounts\n",
      "order_id                     \n",
      "137       1.224745  35.200379\n",
      "165       0.383482  52.193613\n",
      "166       0.547723  41.829415\n",
      "171       1.133893  19.267540\n",
      "177       0.000000  15.019432\n",
      "          counts    amounts\n",
      "order_id                   \n",
      "137          9.0  32.333333\n",
      "165         21.0  52.944444\n",
      "166          7.0  48.200000\n",
      "171         10.0  36.285714\n",
      "177          4.0  34.250000\n",
      "         counts amounts           \n",
      "            sum     sum       mean\n",
      "order_id                          \n",
      "137         9.0   194.0  32.333333\n",
      "165        21.0   953.0  52.944444\n",
      "166         7.0   241.0  48.200000\n",
      "171        10.0   254.0  36.285714\n",
      "177         4.0   137.0  34.250000\n"
     ],
     "output_type": "stream"
    }
   ],
   "source": [
    "# 对分组聚类之后的detailGroupby执行agg函数\n",
    "print(detailGroup.agg(np.mean).head())\n",
    "print(detailGroup.agg(np.std).head())\n",
    "print(detailGroup.agg({'counts':np.sum,'amounts':np.mean}).head())\n",
    "print(detailGroup.agg({'counts':np.sum,'amounts':[np.sum,np.mean]}).head())"
   ]
  },
  {
   "cell_type": "code",
   "execution_count": 9,
   "metadata": {
    "pycharm": {
     "is_executing": false,
     "name": "#%%\n"
    }
   },
   "outputs": [
    {
     "name": "stdout",
     "text": [
      "counts      1.111191\n",
      "amounts    45.337172\n",
      "dtype: float64\n",
      "          order_id    counts    amounts\n",
      "order_id                               \n",
      "137          137.0  1.500000  32.333333\n",
      "165          165.0  1.166667  52.944444\n",
      "166          166.0  1.400000  48.200000\n",
      "171          171.0  1.428571  36.285714\n",
      "177          177.0  1.000000  34.250000\n",
      "193          193.0  1.000000  29.750000\n",
      "201          201.0  1.250000  29.500000\n",
      "203          203.0  1.000000  34.000000\n",
      "239          239.0  1.000000  45.500000\n",
      "242          242.0  1.833333  32.500000\n",
      "260          260.0  1.500000  46.833333\n",
      "266          266.0  1.000000  41.875000\n",
      "281          281.0  2.333333  36.444444\n",
      "283          283.0  1.333333  40.000000\n",
      "285          285.0  1.250000  36.500000\n",
      "294          294.0  1.000000  31.000000\n",
      "301          301.0  1.000000  53.500000\n",
      "302          302.0  1.583333  52.250000\n",
      "306          306.0  1.500000  35.833333\n",
      "310          310.0  1.333333  71.333333\n",
      "311          311.0  1.333333  44.333333\n",
      "312          312.0  1.000000  40.857143\n",
      "313          313.0  1.625000  34.250000\n",
      "314          314.0  1.095238  30.619048\n",
      "317          317.0  1.300000  49.600000\n",
      "320          320.0  1.166667  73.000000\n",
      "333          333.0  1.000000  31.800000\n",
      "338          338.0  1.000000  33.500000\n",
      "342          342.0  1.250000  27.000000\n",
      "344          344.0  1.333333  44.333333\n",
      "...            ...       ...        ...\n",
      "1193        1193.0  1.000000  28.692308\n",
      "1201        1201.0  1.714286  52.714286\n",
      "1203        1203.0  1.066667  41.066667\n",
      "1208        1208.0  1.000000  35.833333\n",
      "1211        1211.0  1.000000  48.714286\n",
      "1224        1224.0  1.000000  31.545455\n",
      "1227        1227.0  1.500000  30.166667\n",
      "1250        1250.0  1.250000  37.000000\n",
      "1251        1251.0  1.222222  31.444444\n",
      "1258        1258.0  1.500000  37.500000\n",
      "1259        1259.0  1.000000  39.500000\n",
      "1263        1263.0  1.000000  27.571429\n",
      "1264        1264.0  1.000000  50.000000\n",
      "1266        1266.0  1.066667  41.000000\n",
      "1267        1267.0  1.142857  37.285714\n",
      "1268        1268.0  1.100000  37.300000\n",
      "1274        1274.0  1.166667  43.833333\n",
      "1278        1278.0  1.500000  45.750000\n",
      "1282        1282.0  1.071429  42.500000\n",
      "1288        1288.0  1.062500  45.875000\n",
      "1290        1290.0  1.000000  43.733333\n",
      "1293        1293.0  1.000000  44.400000\n",
      "1298        1298.0  1.125000  31.000000\n",
      "1302        1302.0  1.294118  39.470588\n",
      "1303        1303.0  1.800000  22.400000\n",
      "1309        1309.0  1.153846  34.076923\n",
      "1314        1314.0  1.000000  42.333333\n",
      "1317        1317.0  1.000000  67.222222\n",
      "1319        1319.0  1.000000  67.777778\n",
      "1323        1323.0  1.000000  50.933333\n",
      "\n",
      "[278 rows x 3 columns]\n"
     ],
     "output_type": "stream"
    }
   ],
   "source": [
    "# apply :针对DataFrame与DataFrameGroupBy\n",
    "print(detail[['counts','amounts']].apply(np.mean))\n",
    "\n",
    "print(detailGroup.apply(np.mean))"
   ]
  },
  {
   "cell_type": "code",
   "execution_count": 10,
   "metadata": {
    "pycharm": {
     "is_executing": false,
     "name": "#%%\n"
    }
   },
   "outputs": [
    {
     "name": "stdout",
     "text": [
      "   counts  amounts\n",
      "0     1.0     49.0\n",
      "1     1.0     48.0\n",
      "2     1.0     30.0\n",
      "3     1.0     25.0\n",
      "4     1.0     13.0\n",
      "   counts  amounts\n",
      "0     2.0     98.0\n",
      "1     2.0     96.0\n",
      "2     2.0     60.0\n",
      "3     2.0     50.0\n",
      "4     2.0     26.0\n"
     ],
     "output_type": "stream"
    }
   ],
   "source": [
    "#transfrom方法进行数据处理\n",
    "print(detail[['counts','amounts']].head())\n",
    "print(detail[['counts','amounts']].transform(lambda x:x*2).head())"
   ]
  },
  {
   "cell_type": "code",
   "execution_count": 11,
   "metadata": {
    "pycharm": {
     "is_executing": false,
     "name": "#%%\n"
    }
   },
   "outputs": [
    {
     "name": "stdout",
     "text": [
      "   counts  amounts\n",
      "0     1.0     33.0\n",
      "1     1.0     33.0\n",
      "2     1.0     33.0\n",
      "3     1.0     33.0\n",
      "4     1.0     33.0\n"
     ],
     "output_type": "stream"
    }
   ],
   "source": [
    "print(detailGroup.transform(lambda x:x.mean()).head())"
   ]
  }
 ],
 "metadata": {
  "kernelspec": {
   "display_name": "Python 3",
   "language": "python",
   "name": "python3"
  },
  "language_info": {
   "codemirror_mode": {
    "name": "ipython",
    "version": 3
   },
   "file_extension": ".py",
   "mimetype": "text/x-python",
   "name": "python",
   "nbconvert_exporter": "python",
   "pygments_lexer": "ipython3",
   "version": "3.6.10"
  },
  "pycharm": {
   "stem_cell": {
    "cell_type": "raw",
    "metadata": {
     "collapsed": false
    },
    "source": []
   }
  }
 },
 "nbformat": 4,
 "nbformat_minor": 1
}