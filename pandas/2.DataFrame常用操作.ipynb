{
 "cells": [
  {
   "cell_type": "code",
   "execution_count": 1,
   "metadata": {
    "collapsed": true
   },
   "outputs": [],
   "source": [
    "import pandas as pd\n",
    "order = pd.read_csv(\"./data/meal_order_info.csv\",encoding='gbk')\n"
   ]
  },
  {
   "cell_type": "code",
   "execution_count": 2,
   "outputs": [
    {
     "name": "stdout",
     "output_type": "stream",
     "text": [
      "[[417 1442 4 ... 1 18688880641 '苗宇怡']\n",
      " [301 1095 3 ... 1 18688880174 '赵颖']\n",
      " [413 1147 6 ... 1 18688880276 '徐毅凡']\n",
      " ...\n",
      " [692 1155 8 ... 1 18688880327 '习一冰']\n",
      " [647 1094 4 ... 1 18688880207 '章春华']\n",
      " [570 1113 8 ... 1 18688880313 '唐雅嘉']]\n",
      "Index(['info_id', 'emp_id', 'number_consumers', 'mode', 'dining_table_id',\n",
      "       'dining_table_name', 'expenditure', 'dishes_count', 'accounts_payable',\n",
      "       'use_start_time', 'check_closed', 'lock_time', 'cashier_id', 'pc_id',\n",
      "       'order_number', 'org_id', 'print_doc_bill_num', 'lock_table_info',\n",
      "       'order_status', 'phone', 'name'],\n",
      "      dtype='object')\n",
      "info_id                 int64\n",
      "emp_id                  int64\n",
      "number_consumers        int64\n",
      "mode                  float64\n",
      "dining_table_id         int64\n",
      "dining_table_name       int64\n",
      "expenditure             int64\n",
      "dishes_count            int64\n",
      "accounts_payable        int64\n",
      "use_start_time         object\n",
      "check_closed          float64\n",
      "lock_time              object\n",
      "cashier_id            float64\n",
      "pc_id                 float64\n",
      "order_number          float64\n",
      "org_id                  int64\n",
      "print_doc_bill_num    float64\n",
      "lock_table_info       float64\n",
      "order_status            int64\n",
      "phone                   int64\n",
      "name                   object\n",
      "dtype: object\n",
      "19845\n",
      "2\n",
      "(945, 21)\n"
     ]
    }
   ],
   "source": [
    "# values DataFrame的值\n",
    "print(order.values)\n",
    "\n",
    "# colums 列标签\n",
    "print(order.columns)\n",
    "\n",
    "# 数据类型\n",
    "print(order.dtypes)\n",
    "\n",
    "# 元素个数\n",
    "print(order.size)\n",
    "\n",
    "# 维度\n",
    "print(order.ndim)\n",
    "\n",
    "# 形状\n",
    "print(order.shape)"
   ],
   "metadata": {
    "collapsed": false,
    "pycharm": {
     "name": "#%%\n"
    }
   }
  },
  {
   "cell_type": "code",
   "execution_count": 3,
   "outputs": [
    {
     "name": "stdout",
     "output_type": "stream",
     "text": [
      "0      417\n",
      "1      301\n",
      "2      413\n",
      "3      415\n",
      "4      392\n",
      "      ... \n",
      "940    641\n",
      "941    672\n",
      "942    692\n",
      "943    647\n",
      "944    570\n",
      "Name: info_id, Length: 945, dtype: int64\n",
      "0      苗宇怡\n",
      "1       赵颖\n",
      "2      徐毅凡\n",
      "3      张大鹏\n",
      "4      孙熙凯\n",
      "      ... \n",
      "940     李靖\n",
      "941     莫言\n",
      "942    习一冰\n",
      "943    章春华\n",
      "944    唐雅嘉\n",
      "Name: name, Length: 945, dtype: object\n",
      "0    苗宇怡\n",
      "1     赵颖\n",
      "2    徐毅凡\n",
      "3    张大鹏\n",
      "4    孙熙凯\n",
      "Name: name, dtype: object\n",
      "         phone name\n",
      "0  18688880641  苗宇怡\n",
      "1  18688880174   赵颖\n",
      "2  18688880276  徐毅凡\n",
      "3  18688880231  张大鹏\n",
      "4  18688880173  孙熙凯\n",
      "   info_id  emp_id  number_consumers  mode  dining_table_id  \\\n",
      "1      301    1095                 3   NaN             1430   \n",
      "2      413    1147                 6   NaN             1488   \n",
      "3      415    1166                 4   NaN             1502   \n",
      "4      392    1094                10   NaN             1499   \n",
      "\n",
      "   dining_table_name  expenditure  dishes_count  accounts_payable  \\\n",
      "1               1031          321             6               321   \n",
      "2               1009          854            15               854   \n",
      "3               1023          466            10               466   \n",
      "4               1020          704            24               704   \n",
      "\n",
      "      use_start_time  ...          lock_time cashier_id  pc_id  order_number  \\\n",
      "1  2016/8/1 11:15:57  ...  2016/8/1 11:31:55        NaN    NaN           NaN   \n",
      "2  2016/8/1 12:42:52  ...  2016/8/1 12:54:37        NaN    NaN           NaN   \n",
      "3  2016/8/1 12:51:38  ...  2016/8/1 13:08:20        NaN    NaN           NaN   \n",
      "4  2016/8/1 12:58:44  ...  2016/8/1 13:07:16        NaN    NaN           NaN   \n",
      "\n",
      "   org_id  print_doc_bill_num  lock_table_info  order_status        phone  \\\n",
      "1     328                 NaN              NaN             1  18688880174   \n",
      "2     330                 NaN              NaN             1  18688880276   \n",
      "3     330                 NaN              NaN             1  18688880231   \n",
      "4     330                 NaN              NaN             1  18688880173   \n",
      "\n",
      "   name  \n",
      "1    赵颖  \n",
      "2   徐毅凡  \n",
      "3   张大鹏  \n",
      "4   孙熙凯  \n",
      "\n",
      "[4 rows x 21 columns]\n"
     ]
    }
   ],
   "source": [
    "# 查看数据\n",
    "\n",
    "# 默认前5个\n",
    "order.head()\n",
    "\n",
    "# 默认后5个\n",
    "order.tail()\n",
    "\n",
    "print(order['info_id'])\n",
    "print(order.name)\n",
    "\n",
    "# 单列指定行数\n",
    "print(order['name'][:5])\n",
    "\n",
    "# 指定列指定行\n",
    "print(order[['phone','name']][:5])\n",
    "\n",
    "print(order[:][1:5])"
   ],
   "metadata": {
    "collapsed": false,
    "pycharm": {
     "name": "#%%\n"
    }
   }
  },
  {
   "cell_type": "code",
   "execution_count": 4,
   "outputs": [
    {
     "name": "stdout",
     "output_type": "stream",
     "text": [
      "3    张大鹏\n",
      "4    孙熙凯\n",
      "5    沈晓雯\n",
      "6    苗泽坤\n",
      "Name: name, dtype: object\n",
      "  name        phone\n",
      "3  张大鹏  18688880231\n",
      "4  孙熙凯  18688880173\n",
      "5  沈晓雯  18688880441\n",
      "6  苗泽坤  18688880651\n",
      "3    18688880231\n",
      "4    18688880173\n",
      "5    18688880441\n",
      "Name: phone, dtype: int64\n",
      "         phone name\n",
      "3  18688880231  张大鹏\n",
      "4  18688880173  孙熙凯\n",
      "5  18688880441  沈晓雯\n"
     ]
    }
   ],
   "source": [
    "# loc切片\n",
    "print(order.loc[3:6,'name'])\n",
    "print(order.loc[3:6,['name','phone']])\n",
    "\n",
    "# iloc\n",
    "print(order.iloc[3:6,19])\n",
    "print(order.iloc[3:6,[19,20]])"
   ],
   "metadata": {
    "collapsed": false,
    "pycharm": {
     "name": "#%%\n"
    }
   }
  },
  {
   "cell_type": "code",
   "execution_count": 5,
   "outputs": [
    {
     "name": "stdout",
     "output_type": "stream",
     "text": [
      "         phone name\n",
      "0  18688880641  苗宇怡\n",
      "         phone name\n",
      "0  18688880641  苗宇怡\n"
     ]
    }
   ],
   "source": [
    "# loc条件切片\n",
    "print(order.loc[order['info_id']==417,['phone','name']])\n",
    "\n",
    "# iloc条件切片\n",
    "print(order.iloc[(order['info_id']==417).values,[19,20]])"
   ],
   "metadata": {
    "collapsed": false,
    "pycharm": {
     "name": "#%%\n"
    }
   }
  },
  {
   "cell_type": "code",
   "execution_count": 6,
   "outputs": [
    {
     "name": "stdout",
     "output_type": "stream",
     "text": [
      "0    1442\n",
      "Name: emp_id, dtype: int64\n"
     ]
    }
   ],
   "source": [
    "# 修改数据\n",
    "print(order.loc[ order['info_id']==417,'emp_id'])\n",
    "order.loc[ order['info_id']==417,'emp_id']=418"
   ],
   "metadata": {
    "collapsed": false,
    "pycharm": {
     "name": "#%%\n"
    }
   }
  },
  {
   "cell_type": "code",
   "execution_count": 7,
   "outputs": [
    {
     "name": "stdout",
     "output_type": "stream",
     "text": [
      "Index(['info_id', 'emp_id', 'number_consumers', 'mode', 'dining_table_id',\n",
      "       'dining_table_name', 'expenditure', 'dishes_count', 'accounts_payable',\n",
      "       'use_start_time', 'check_closed', 'lock_time', 'cashier_id', 'pc_id',\n",
      "       'order_number', 'org_id', 'print_doc_bill_num', 'lock_table_info',\n",
      "       'order_status', 'phone', 'name', 'test'],\n",
      "      dtype='object')\n",
      "Index(['info_id', 'emp_id', 'number_consumers', 'mode', 'dining_table_id',\n",
      "       'dining_table_name', 'expenditure', 'dishes_count', 'accounts_payable',\n",
      "       'use_start_time', 'check_closed', 'lock_time', 'cashier_id', 'pc_id',\n",
      "       'order_number', 'org_id', 'print_doc_bill_num', 'lock_table_info',\n",
      "       'order_status', 'phone', 'name', 'test', 'black'],\n",
      "      dtype='object')\n"
     ]
    }
   ],
   "source": [
    "# 新增数据\n",
    "# 新增一列\n",
    "order['test']=order['info_id']+order['emp_id']\n",
    "print(order.columns)\n",
    "order['black']=False\n",
    "print(order.columns)"
   ],
   "metadata": {
    "collapsed": false,
    "pycharm": {
     "name": "#%%\n"
    }
   }
  },
  {
   "cell_type": "code",
   "execution_count": 8,
   "outputs": [],
   "source": [
    "# 删除\n",
    "order.drop(labels='test',axis=1,inplace=True)"
   ],
   "metadata": {
    "collapsed": false,
    "pycharm": {
     "name": "#%%\n"
    }
   }
  },
  {
   "cell_type": "code",
   "execution_count": 9,
   "outputs": [
    {
     "name": "stdout",
     "output_type": "stream",
     "text": [
      "5.212698412698413\n",
      "count    945.000000\n",
      "mean       5.212698\n",
      "std        2.363710\n",
      "min        1.000000\n",
      "25%        3.000000\n",
      "50%        5.000000\n",
      "75%        7.000000\n",
      "max       10.000000\n",
      "Name: number_consumers, dtype: float64\n",
      "5.212698412698413\n"
     ]
    }
   ],
   "source": [
    "# 数值统计\n",
    "import numpy as np\n",
    "\n",
    "number_consumers= order['number_consumers']\n",
    "print(np.mean(number_consumers))\n",
    "\n",
    "print(number_consumers.describe())\n",
    "print(number_consumers.mean())"
   ],
   "metadata": {
    "collapsed": false,
    "pycharm": {
     "name": "#%%\n"
    }
   }
  },
  {
   "cell_type": "code",
   "execution_count": 10,
   "outputs": [
    {
     "name": "stdout",
     "output_type": "stream",
     "text": [
      "330    835\n",
      "328    102\n",
      "304      6\n",
      "329      1\n",
      "310      1\n",
      "Name: org_id, dtype: int64\n"
     ]
    }
   ],
   "source": [
    "# 频数统计\n",
    "print(order['org_id'].value_counts())"
   ],
   "metadata": {
    "collapsed": false,
    "pycharm": {
     "name": "#%%\n"
    }
   }
  },
  {
   "cell_type": "code",
   "execution_count": 11,
   "outputs": [
    {
     "name": "stdout",
     "output_type": "stream",
     "text": [
      "info_id                 int64\n",
      "emp_id                  int64\n",
      "number_consumers        int64\n",
      "mode                  float64\n",
      "dining_table_id         int64\n",
      "dining_table_name       int64\n",
      "expenditure             int64\n",
      "dishes_count            int64\n",
      "accounts_payable        int64\n",
      "use_start_time         object\n",
      "check_closed          float64\n",
      "lock_time              object\n",
      "cashier_id            float64\n",
      "pc_id                 float64\n",
      "order_number          float64\n",
      "org_id                  int64\n",
      "print_doc_bill_num    float64\n",
      "lock_table_info       float64\n",
      "order_status            int64\n",
      "phone                  object\n",
      "name                   object\n",
      "black                    bool\n",
      "dtype: object\n"
     ]
    }
   ],
   "source": [
    "#数据类型转换\n",
    "order['phone']=order['phone'].astype('str')\n",
    "print(order.dtypes)"
   ],
   "metadata": {
    "collapsed": false,
    "pycharm": {
     "name": "#%%\n"
    }
   }
  }
 ],
 "metadata": {
  "kernelspec": {
   "name": "python3",
   "language": "python",
   "display_name": "Python 3"
  },
  "language_info": {
   "codemirror_mode": {
    "name": "ipython",
    "version": 2
   },
   "file_extension": ".py",
   "mimetype": "text/x-python",
   "name": "python",
   "nbconvert_exporter": "python",
   "pygments_lexer": "ipython2",
   "version": "2.7.6"
  },
  "pycharm": {
   "stem_cell": {
    "cell_type": "raw",
    "source": [],
    "metadata": {
     "collapsed": false
    }
   }
  }
 },
 "nbformat": 4,
 "nbformat_minor": 0
}