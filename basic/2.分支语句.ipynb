{
 "cells": [
  {
   "cell_type": "code",
   "execution_count": null,
   "metadata": {},
   "outputs": [],
   "source": [
    "#分支语句：判断，决定运行哪一部分代码 if else elif\n",
    "\n",
    "#if\n",
    "a = 1\n",
    "\n",
    "if a < 5:\n",
    "    print(\"这个数字小于5\")\n",
    "     \n",
    "\n"
   ]
  },
  {
   "cell_type": "code",
   "execution_count": null,
   "metadata": {},
   "outputs": [],
   "source": [
    "# if-else\n",
    "a = 10\n",
    "\n",
    "if a < 5:\n",
    "    print(\"这个数字小于5\")\n",
    "else:\n",
    "    print(\"这个数字不小于5\")"
   ]
  },
  {
   "cell_type": "code",
   "execution_count": null,
   "metadata": {},
   "outputs": [],
   "source": [
    "# if-elif（可以不止一个elif）\n",
    "a = 30\n",
    "\n",
    "# 从头到尾进行判断，if，elif...中只要一个满足条件，剩下都不运行\n",
    "if a < 3 :\n",
    "    print(\"这个数字小于3\")\n",
    "elif a < 5:\n",
    "    print(\"这个数字小于5\")\n",
    "elif a < 8:\n",
    "    print(\"这个数字小于8\")\n"
   ]
  },
  {
   "cell_type": "code",
   "execution_count": null,
   "metadata": {},
   "outputs": [],
   "source": [
    "# if-elif...-else\n",
    "a = 30\n",
    "\n",
    "# 从头到尾进行判断，if，elif...中只要一个满足条件，剩下都不运行\n",
    "if a < 3:\n",
    "    print(\"这个数字小于3\")\n",
    "elif a < 5:\n",
    "    print(\"这个数字小于5\")\n",
    "elif a < 8:\n",
    "    print(\"这个数字小于8\")\n",
    "else:\n",
    "    print(\"这个数字不小于8\")\n",
    "    "
   ]
  },
  {
   "cell_type": "code",
   "execution_count": null,
   "metadata": {},
   "outputs": [],
   "source": [
    "# python的switch\n",
    "a = 30\n",
    "\n",
    "# 从头到尾进行判断，if，elif...中只要一个满足条件，剩下都不运行\n",
    "if a == 3 :\n",
    "    print(\"这个数字等于3\")\n",
    "elif a == 5:\n",
    "    print(\"这个数字等于5\")\n",
    "elif a == 8:\n",
    "    print(\"这个数字等于8\")"
   ]
  }
 ],
 "metadata": {
  "kernelspec": {
   "name": "python3",
   "language": "python",
   "display_name": "Python 3"
  },
  "language_info": {
   "codemirror_mode": {
    "name": "ipython",
    "version": 3
   },
   "file_extension": ".py",
   "mimetype": "text/x-python",
   "name": "python",
   "nbconvert_exporter": "python",
   "pygments_lexer": "ipython3",
   "version": "3.7.3"
  }
 },
 "nbformat": 4,
 "nbformat_minor": 2
}