{
 "cells": [
  {
   "cell_type": "code",
   "execution_count": 10,
   "metadata": {},
   "outputs": [
    {
     "name": "stdout",
     "output_type": "stream",
     "text": [
      "运行失败！\n",
      "end!\n"
     ]
    }
   ],
   "source": [
    "\"\"\"\n",
    "try:\n",
    "    运行的代码（可能出错）\n",
    "except 异常的名字:\n",
    "    如果捕获到异常，就运行这个代码\n",
    "else:\n",
    "    运行正常就运行这里的代码\n",
    "finally:\n",
    "    最终都要运行这个代码\n",
    "\"\"\"\n",
    "\n",
    "try:\n",
    "    # mode = t 文本（默认） r只读， w只写，\n",
    "    # python读取文件，处理数据，pandas进行处理，\n",
    "    # 相对路径\n",
    "    #  ./ 空格   当前路径\n",
    "    #  ../      上一级目录\n",
    "    fh = open(\"/Users/suzhihao/PycharmProjects/武汉科技大学/testFile.txt\", \"w\")\n",
    "    fh.write(\"abc\")\n",
    "    a = 1\n",
    "    print(a)  \n",
    "except Exception:\n",
    "    print(\"运行失败！\")\n",
    "else:\n",
    "    print(\"运行成功！\")\n",
    "finally:\n",
    "    print(\"end!\")\n"
   ]
  },
  {
   "cell_type": "code",
   "execution_count": null,
   "metadata": {},
   "outputs": [],
   "source": []
  }
 ],
 "metadata": {
  "kernelspec": {
   "name": "python3",
   "language": "python",
   "display_name": "Python 3"
  },
  "language_info": {
   "codemirror_mode": {
    "name": "ipython",
    "version": 3
   },
   "file_extension": ".py",
   "mimetype": "text/x-python",
   "name": "python",
   "nbconvert_exporter": "python",
   "pygments_lexer": "ipython3",
   "version": "3.7.3"
  }
 },
 "nbformat": 4,
 "nbformat_minor": 2
}