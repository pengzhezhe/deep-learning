{
 "cells": [
  {
   "cell_type": "code",
   "execution_count": 1,
   "metadata": {},
   "outputs": [],
   "source": [
    "# 基本数据类型，分支语句，循环语句\n",
    "# 基本数据类型\n",
    "\n",
    "# Number:int,float,complex\n",
    "# boolean\n",
    "# String\n",
    "# 容器：存储元素：增删改查\n",
    "# List [] \n",
    "# Tuple ()\n",
    "# Set {}\n",
    "# Dictionary {key:value,:}\n",
    "\n"
   ]
  },
  {
   "cell_type": "code",
   "execution_count": 2,
   "metadata": {},
   "outputs": [
    {
     "name": "stdout",
     "output_type": "stream",
     "text": [
      "<class 'int'>\n",
      "10\n"
     ]
    }
   ],
   "source": [
    "# Number:int,float,complex\n",
    "# int\n",
    "\n",
    "v_int = 10\n",
    "\n",
    "print(type(v_int))\n",
    "print(v_int)"
   ]
  },
  {
   "cell_type": "code",
   "execution_count": 3,
   "metadata": {},
   "outputs": [
    {
     "name": "stdout",
     "output_type": "stream",
     "text": [
      "<class 'float'>\n",
      "1.1\n"
     ]
    }
   ],
   "source": [
    "# float\n",
    "v_float = 1.1\n",
    "print(type(v_float))\n",
    "print(v_float)"
   ]
  },
  {
   "cell_type": "code",
   "execution_count": 4,
   "metadata": {},
   "outputs": [
    {
     "name": "stdout",
     "output_type": "stream",
     "text": [
      "<class 'complex'>\n",
      "(1+1j)\n"
     ]
    }
   ],
   "source": [
    "# complex\n",
    "v_complex = 1 + 1j # j 等同于数学上的i\n",
    "print(type(v_complex))\n",
    "print(v_complex)"
   ]
  },
  {
   "cell_type": "code",
   "execution_count": 5,
   "metadata": {},
   "outputs": [
    {
     "name": "stdout",
     "output_type": "stream",
     "text": [
      "<class 'bool'>\n",
      "True\n"
     ]
    }
   ],
   "source": [
    "# boolean ： True  False\n",
    "v_boolean = True\n",
    "print(type(v_boolean))\n",
    "print(v_boolean)\n"
   ]
  },
  {
   "cell_type": "code",
   "execution_count": 6,
   "metadata": {},
   "outputs": [
    {
     "name": "stdout",
     "output_type": "stream",
     "text": [
      "<class 'str'>\n",
      "python is good!\n"
     ]
    }
   ],
   "source": [
    "# string\n",
    "v_string = 'python is good!'\n",
    "print(type(v_string))\n",
    "print(v_string)"
   ]
  },
  {
   "cell_type": "code",
   "execution_count": 7,
   "metadata": {},
   "outputs": [
    {
     "name": "stdout",
     "output_type": "stream",
     "text": [
      "<class 'list'>\n",
      "[1, 2, 3, 'a', 'b', 'c', 1.1, 1.2]\n"
     ]
    }
   ],
   "source": [
    "# 容器：存储元素，增删改查\n",
    "# list列表\n",
    "# tuple元组\n",
    "# set集合\n",
    "# dictionary字典 key-value\n",
    "\n",
    "# list列表：按顺序存储元素，可以重复，可以增删改查\n",
    "#定义\n",
    "v_list = [1,2,3,'a','b','c',1.1, 1.2]\n",
    "print(type(v_list))\n",
    "print(v_list)"
   ]
  },
  {
   "cell_type": "code",
   "execution_count": 8,
   "metadata": {},
   "outputs": [
    {
     "name": "stdout",
     "output_type": "stream",
     "text": [
      "1\n",
      "[1, 2, 3, 'a']\n",
      "[2, 3, 'a', 'b', 'c', 1.1, 1.2]\n",
      "[1, 2, 3, 'a']\n",
      "8\n"
     ]
    }
   ],
   "source": [
    "# 查看\n",
    "print(v_list[0]) #index从0开始，0,1,2,3,...\n",
    "print(v_list[0:4]) # 切片，[start, end) == [0,4) == 0,1,2,3\n",
    "print(v_list[1:]) # [start, 结束] == [1,+oo) == 1,2,3,.....\n",
    "print(v_list[:4]) #[开始,end) == [0,4) == 0,1,2,3\n",
    "print(len(v_list)) #"
   ]
  },
  {
   "cell_type": "code",
   "execution_count": 9,
   "metadata": {},
   "outputs": [
    {
     "name": "stdout",
     "output_type": "stream",
     "text": [
      "[1, 2, 3, 'a', 'b', 'c', 1.1, 1.2, 1.3]\n",
      "[1, 2, 'e', 3, 'a', 'b', 'c', 1.1, 1.2, 1.3]\n"
     ]
    }
   ],
   "source": [
    "# 插入\n",
    "# 跟在末尾的插入\n",
    "v_list.append(1.3)\n",
    "print(v_list)\n",
    "\n",
    "# 指定位置，根据index指定位置\n",
    "v_list.insert(2, 'e')\n",
    "print(v_list)\n"
   ]
  },
  {
   "cell_type": "code",
   "execution_count": 10,
   "metadata": {},
   "outputs": [
    {
     "name": "stdout",
     "output_type": "stream",
     "text": [
      "[10, 2, 'e', 3, 'a', 'b', 'c', 1.1, 1.2, 1.3]\n"
     ]
    }
   ],
   "source": [
    "#修改\n",
    "v_list[0] = 10\n",
    "print(v_list)"
   ]
  },
  {
   "cell_type": "code",
   "execution_count": 11,
   "metadata": {},
   "outputs": [
    {
     "name": "stdout",
     "output_type": "stream",
     "text": [
      "[2, 'e', 3, 'a', 'b', 'c', 1.1, 1.2, 1.3]\n"
     ]
    }
   ],
   "source": [
    "# 删除\n",
    "del v_list[0]\n",
    "# v_list.remove(v_list[0])\n",
    "print(v_list)"
   ]
  },
  {
   "cell_type": "code",
   "execution_count": 12,
   "metadata": {},
   "outputs": [
    {
     "name": "stdout",
     "output_type": "stream",
     "text": [
      "<class 'tuple'>\n",
      "(1, 2, 3, 'a')\n",
      "1\n",
      "(1, 2)\n"
     ]
    }
   ],
   "source": [
    "# 元祖 tuple:一旦被定义，不能修改，只能查看\n",
    "v_tuple = (1,2,3,\"a\")\n",
    "print(type(v_tuple))\n",
    "print(v_tuple)\n",
    "\n",
    "#查看\n",
    "print(v_tuple[0])\n",
    "print(v_tuple[0:2]) #切片，[start,end)"
   ]
  },
  {
   "cell_type": "code",
   "execution_count": 13,
   "metadata": {},
   "outputs": [
    {
     "name": "stdout",
     "output_type": "stream",
     "text": [
      "<class 'set'>\n",
      "{1, 2, 3, 4, 'c', 'a', 'b', 'd'}\n"
     ]
    }
   ],
   "source": [
    "# set集合，元素不能重复，自动排列元素的数据\n",
    "v_set =  {1,2,3,'d',4,'a','b','c'}\n",
    "# v_set = set(v_list) #把list强制转换成set\n",
    "print(type(v_set))\n",
    "print(v_set)"
   ]
  },
  {
   "cell_type": "code",
   "execution_count": 14,
   "metadata": {},
   "outputs": [
    {
     "name": "stdout",
     "output_type": "stream",
     "text": [
      "{1, 2, 3, 4, 'c', 5, 'a', 'b', 'd'}\n"
     ]
    }
   ],
   "source": [
    "#增加\n",
    "v_set.add(5)\n",
    "print(v_set)"
   ]
  },
  {
   "cell_type": "code",
   "execution_count": 15,
   "metadata": {},
   "outputs": [
    {
     "name": "stdout",
     "output_type": "stream",
     "text": [
      "{1, 2, 3, 4, 'c', 5, 'b', 'd'}\n"
     ]
    }
   ],
   "source": [
    "# 删除\n",
    "v_set.remove('a')\n",
    "print(v_set)"
   ]
  },
  {
   "cell_type": "code",
   "execution_count": 16,
   "metadata": {},
   "outputs": [
    {
     "name": "stdout",
     "output_type": "stream",
     "text": [
      "{1: 'c', 'a': 'b', 4: 'd', 2: 'b', 3: 'c'}\n"
     ]
    }
   ],
   "source": [
    "#字典\n",
    "v_dict = {1:'a',1:'c','a':'b', 4:'d',2:'b', 3:'c'}\n",
    "print(v_dict)"
   ]
  },
  {
   "cell_type": "code",
   "execution_count": 17,
   "metadata": {},
   "outputs": [
    {
     "name": "stdout",
     "output_type": "stream",
     "text": [
      "c\n",
      "b\n"
     ]
    }
   ],
   "source": [
    "# 查看\n",
    "print(v_dict[1])\n",
    "print(v_dict['a'])"
   ]
  },
  {
   "cell_type": "code",
   "execution_count": 18,
   "metadata": {},
   "outputs": [
    {
     "name": "stdout",
     "output_type": "stream",
     "text": [
      "{1: 'aaa', 'a': 'b', 4: 'd', 2: 'b', 3: 'c'}\n"
     ]
    }
   ],
   "source": [
    "#修改\n",
    "v_dict[1] = 'aaa'\n",
    "print(v_dict)"
   ]
  },
  {
   "cell_type": "code",
   "execution_count": 19,
   "metadata": {},
   "outputs": [
    {
     "name": "stdout",
     "output_type": "stream",
     "text": [
      "{'a': 'b', 4: 'd', 2: 'b', 3: 'c'}\n"
     ]
    }
   ],
   "source": [
    "# 删除\n",
    "del v_dict[1]\n",
    "print(v_dict)"
   ]
  },
  {
   "cell_type": "code",
   "execution_count": 20,
   "metadata": {},
   "outputs": [
    {
     "name": "stdout",
     "output_type": "stream",
     "text": [
      "{'a': 'b', 4: 'd', 2: 'b', 3: 'c', '10': 'e'}\n"
     ]
    }
   ],
   "source": [
    "# 增加\n",
    "v_dict['10'] = 'e'\n",
    "print(v_dict)"
   ]
  },
  {
   "cell_type": "code",
   "execution_count": 20,
   "metadata": {},
   "outputs": [],
   "source": []
  }
 ],
 "metadata": {
  "kernelspec": {
   "display_name": "Python 3.7",
   "language": "python",
   "name": "python3"
  },
  "language_info": {
   "codemirror_mode": {
    "name": "ipython",
    "version": 3
   },
   "file_extension": ".py",
   "mimetype": "text/x-python",
   "name": "python",
   "nbconvert_exporter": "python",
   "pygments_lexer": "ipython3",
   "version": "3.7.9"
  }
 },
 "nbformat": 4,
 "nbformat_minor": 2
}