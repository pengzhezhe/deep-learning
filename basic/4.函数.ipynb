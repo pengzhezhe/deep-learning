{
 "cells": [
  {
   "cell_type": "code",
   "execution_count": 1,
   "metadata": {},
   "outputs": [],
   "source": [
    "#函数：y=f(x)，映射x-->y\n",
    "#python的函数，可以有也可以没有输入值和输出值\n",
    "#相同的代码实现相同的功能，就可以提取出来，创建成函数，之后调用函数就可以运行这些代码。"
   ]
  },
  {
   "cell_type": "code",
   "execution_count": 4,
   "metadata": {},
   "outputs": [
    {
     "name": "stdout",
     "output_type": "stream",
     "text": [
      "Hello world!\n",
      "God bless you!\n",
      "Hello world!\n",
      "God bless you!\n"
     ]
    }
   ],
   "source": [
    "# 案例一：没有输入也没有输出\n",
    "\n",
    "def hello():\n",
    "    print('Hello world!')\n",
    "    print('God bless you!')\n",
    "    \n",
    "hello()\n",
    "hello()"
   ]
  },
  {
   "cell_type": "code",
   "execution_count": 10,
   "metadata": {},
   "outputs": [
    {
     "name": "stdout",
     "output_type": "stream",
     "text": [
      "hello  10\n"
     ]
    }
   ],
   "source": [
    "# 案例二：只有输入\n",
    "def hello(name):\n",
    "    print(\"hello \", name)\n",
    "    \n",
    "\n",
    "hello(10)"
   ]
  },
  {
   "cell_type": "code",
   "execution_count": 12,
   "metadata": {},
   "outputs": [
    {
     "name": "stdout",
     "output_type": "stream",
     "text": [
      "5050.0\n"
     ]
    }
   ],
   "source": [
    "# 案例三： 有输入，有输出\n",
    "def sum(min, max):\n",
    "    result = (min+max)*(max-min+1)/2\n",
    "    return result\n",
    "\n",
    "y = sum(1,100)\n",
    "\n",
    "print(y)\n",
    "    "
   ]
  },
  {
   "cell_type": "code",
   "execution_count": 3,
   "metadata": {},
   "outputs": [
    {
     "name": "stdout",
     "output_type": "stream",
     "text": [
      "0\n",
      "0\n"
     ]
    }
   ],
   "source": [
    "# 案例四： 没有输入值，只有输出值\n",
    "def returnZero():\n",
    "    return 0\n",
    "num = returnZero()\n",
    "print(num)\n",
    "print(returnZero())"
   ]
  },
  {
   "cell_type": "code",
   "execution_count": 14,
   "metadata": {},
   "outputs": [
    {
     "name": "stdout",
     "output_type": "stream",
     "text": [
      "最小： 2\n"
     ]
    }
   ],
   "source": [
    "# 定义一个list列表，至少5个数，里面都是整数int，把最小值找出来。\n",
    "#输入一个list\n",
    "v_list = [9,2,3,4,5,6,7,8,9]\n",
    "def find_min(v_list):\n",
    "    min = v_list[0]\n",
    "    for i in v_list:\n",
    "        if(i<min):\n",
    "            min = i\n",
    "    print(\"最小：\",min)\n",
    "    return min\n",
    "find_min(v_list)\n",
    "\n"
   ]
  },
  {
   "cell_type": "code",
   "execution_count": null,
   "metadata": {},
   "outputs": [],
   "source": []
  },
  {
   "cell_type": "code",
   "execution_count": null,
   "metadata": {},
   "outputs": [],
   "source": []
  }
 ],
 "metadata": {
  "kernelspec": {
   "name": "python3",
   "language": "python",
   "display_name": "Python 3"
  },
  "language_info": {
   "codemirror_mode": {
    "name": "ipython",
    "version": 3
   },
   "file_extension": ".py",
   "mimetype": "text/x-python",
   "name": "python",
   "nbconvert_exporter": "python",
   "pygments_lexer": "ipython3",
   "version": "3.7.3"
  }
 },
 "nbformat": 4,
 "nbformat_minor": 2
}